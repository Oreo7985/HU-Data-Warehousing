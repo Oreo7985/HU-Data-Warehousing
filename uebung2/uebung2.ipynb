{
 "cells": [
  {
   "cell_type": "markdown",
   "metadata": {},
   "source": [
    "Aufgabe 1: Dimensionen und Fakten"
   ]
  },
  {
   "cell_type": "markdown",
   "metadata": {},
   "source": [
    "Facts (Numerical measures that can be aggregated):\n",
    "\n",
    "    Air_Time (minutes)\n",
    "    Elapsed_Time (minutes)\n",
    "    Scheduled_Time (minutes)\n",
    "    Taxi_Out (minutes)\n",
    "    Taxi_In (minutes)\n",
    "\n",
    "    Distance (miles)\n",
    "\n",
    "    Departure_Delay (minutes)\n",
    "    Arrival_Delay (minutes)\n",
    "    Air_System_Delay (minutes)\n",
    "    Security_Delay (minutes)\n",
    "    Airline_Delay (minutes)\n",
    "    Late_Aircraft_Delay (minutes)\n",
    "    Weather_Delay (minutes)"
   ]
  },
  {
   "cell_type": "markdown",
   "metadata": {},
   "source": [
    "Dimensions\n",
    "\n",
    "Time Dimension (Temporal Hierarchy):\n",
    "\n",
    "    Year\n",
    "    Month\n",
    "    Day\n",
    "    Day_of_Week\n",
    "    Scheduled_Departure \n",
    "    Scheduled_Arrival\n",
    "    Wheels_On\n",
    "    Wheels_Off\n",
    "    Arrival_Time\n",
    "\n",
    "Airline Dimension:\n",
    "\n",
    "    IATA_CODE (Identifier)\n",
    "    Airline (Name)\n",
    "\n",
    "Flight Dimension:\n",
    "\n",
    "    Flight_ID\n",
    "    Flight_Number\n",
    "    Tail_Number\n",
    "\n",
    "Flight Status Dimension:\n",
    "    \n",
    "    Diverted\n",
    "    Cancelled\n",
    "\n",
    "\n",
    "Airport Dimension:\n",
    "\n",
    "    IATA_CODE (Location Identifier)\n",
    "    Airport (Name)\n",
    "    Latitude\n",
    "    Longitude\n",
    "    City\n",
    "    State\n",
    "    Country\n",
    "\n",
    "\n"
   ]
  },
  {
   "cell_type": "markdown",
   "metadata": {},
   "source": [
    "Dimension Schema:\n",
    "![Demensions Schema](./dimensionsSchema.png)"
   ]
  },
  {
   "cell_type": "markdown",
   "metadata": {},
   "source": [
    "Aufgabe 2: Konzeptionelle M/ER Modell"
   ]
  },
  {
   "cell_type": "markdown",
   "metadata": {},
   "source": [
    "Conceptual Model:\n",
    "![Conceptual Model](./conceptModel.png)"
   ]
  },
  {
   "cell_type": "markdown",
   "metadata": {},
   "source": [
    "Aufgabe 3: Logical Model"
   ]
  },
  {
   "cell_type": "markdown",
   "metadata": {},
   "source": [
    "Logical Model:\n",
    "![Star Schema](./logicalModel.png)"
   ]
  },
  {
   "cell_type": "markdown",
   "metadata": {},
   "source": [
    "Aufgabe 4: RelationaleTabellen (DDL Statements)"
   ]
  },
  {
   "cell_type": "markdown",
   "metadata": {},
   "source": [
    "```sql\n",
    "-- Date dimension\n",
    "CREATE DIMENSION time_dim\n",
    "    LEVEL day IS (\n",
    "        dim_date.day_id,\n",
    "        dim_date.day\n",
    "    )\n",
    "    LEVEL month IS (\n",
    "        dim_date.month_id,\n",
    "        dim_date.month\n",
    "    )\n",
    "    LEVEL quarter IS (\n",
    "        TRUNC((dim_date.month_id-1)/3) + 1 AS quarter_id,\n",
    "        'Q' || TO_CHAR(TRUNC((dim_date.month_id-1)/3) + 1) AS quarter\n",
    "    )\n",
    "    LEVEL year IS (\n",
    "        dim_date.year_id,\n",
    "        dim_date.year\n",
    "    )\n",
    "    HIERARCHY time_rollup (\n",
    "        day    CHILD OF\n",
    "        month  CHILD OF\n",
    "        quarter CHILD OF\n",
    "        year\n",
    "    );\n",
    "\n",
    "-- Airport dimension\n",
    "CREATE DIMENSION location_dim\n",
    "    LEVEL city IS (\n",
    "        dim_airport.city_id,\n",
    "        dim_airport.city\n",
    "    )\n",
    "    LEVEL state IS (\n",
    "        dim_airport.state_id,\n",
    "        dim_airport.state\n",
    "    )\n",
    "    LEVEL country IS (\n",
    "        dim_airport.country_id,\n",
    "        dim_airport.country\n",
    "    )\n",
    "    HIERARCHY geo_rollup (\n",
    "        city   CHILD OF\n",
    "        state  CHILD OF\n",
    "        country\n",
    "    );\n",
    "\n",
    "-- date dimension tables\n",
    "CREATE TABLE dim_date (\n",
    "    date_id INTEGER PRIMARY KEY,\n",
    "    day_id SMALLINT,\n",
    "    day VARCHAR(10),\n",
    "    month_id SMALLINT,\n",
    "    month VARCHAR(10),\n",
    "    year_id SMALLINT,\n",
    "    year VARCHAR(10),\n",
    "    day_of_week SMALLINT\n",
    ");\n",
    "\n",
    "-- fact table\n",
    "CREATE TABLE fact_flights (\n",
    "    flight_id BIGINT PRIMARY KEY,\n",
    "    date_id INTEGER REFERENCES dim_date(date_id),\n",
    "    airline_id INTEGER REFERENCES dim_airline(airline_id),\n",
    "    status_id SMALLINT REFERENCES dim_status(status_id),\n",
    "    original_airport_id INTEGER REFERENCES dim_airport(airport_id),\n",
    "    destination_airport_id INTEGER REFERENCES dim_airport(airport_id),\n",
    "    flight_number VARCHAR(10),\n",
    "    tail_number VARCHAR(10),\n",
    "    scheduled_time TIMESTEP,\n",
    "    scheduled_departure TIMESTEP,\n",
    "    scheduled_arrival TIMESTEP,\n",
    "    distance INTEGER,\n",
    "    departure_time TIMESTEP,\n",
    "    wheels_off TIMESTEP,\n",
    "    wheels_on TIMESTEP,\n",
    "    taxi_out INTERVAL,\n",
    "    taxi_in INTERVAL,\n",
    "    air_time INTERVAL,\n",
    "    elapsed_time INTERVAL,\n",
    "    arrival_delay SMALLINT,\n",
    "    departure_delay SMALLINT,\n",
    "    air_system_delay SMALLINT,\n",
    "    airline_delay SMALLINT,\n",
    "    security_delay SMALLINT,\n",
    "    weather_delay SMALLINT,\n",
    "    late_aircraft_delay SMALLINT,\n",
    "    DIMENSION time_dim REFERENCES date_id,\n",
    "    DIMENSION location_dim REFERENCES original_airport_id\n",
    ");\n",
    "\n",
    "--declare the dimension tables\n",
    "ALTER DIMENSION time_dim\n",
    "    DETERMINE day BY (day_id, day)\n",
    "    DETERMINE month BY (month_id, month)\n",
    "    DETERMINE quarter BY (quarter_id, quarter)\n",
    "    DETERMINE year BY (year_id, year);\n",
    "\n",
    "ALTER DIMENSION location_dim\n",
    "    DETERMINE city BY (city_id, city)\n",
    "    DETERMINE state BY (state_id, state)\n",
    "    DETERMINE country BY (country_id, country);\n",
    "```\n"
   ]
  },
  {
   "cell_type": "markdown",
   "metadata": {},
   "source": []
  }
 ],
 "metadata": {
  "kernelspec": {
   "display_name": "nlpcourse",
   "language": "python",
   "name": "python3"
  },
  "language_info": {
   "name": "python",
   "version": "3.9.18"
  }
 },
 "nbformat": 4,
 "nbformat_minor": 2
}
