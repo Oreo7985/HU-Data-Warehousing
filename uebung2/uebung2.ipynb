{
 "cells": [
  {
   "cell_type": "markdown",
   "metadata": {},
   "source": [
    "Aufgabe 1: Dimensionen und Fakten"
   ]
  },
  {
   "cell_type": "markdown",
   "metadata": {},
   "source": [
    "Facts (Numerical measures that can be aggregated):\n",
    "\n",
    "    Air_Time (minutes)\n",
    "    Elapsed_Time (minutes)\n",
    "    Scheduled_Time (minutes)\n",
    "    Taxi_Out (minutes)\n",
    "    Taxi_In (minutes)\n",
    "\n",
    "    Distance (miles)\n",
    "\n",
    "    Departure_Delay (minutes)\n",
    "    Arrival_Delay (minutes)\n",
    "    Air_System_Delay (minutes)\n",
    "    Security_Delay (minutes)\n",
    "    Airline_Delay (minutes)\n",
    "    Late_Aircraft_Delay (minutes)\n",
    "    Weather_Delay (minutes)"
   ]
  },
  {
   "cell_type": "markdown",
   "metadata": {},
   "source": [
    "Dimensions\n",
    "\n",
    "Time Dimension (Temporal Hierarchy):\n",
    "\n",
    "    Year\n",
    "    Month\n",
    "    Day\n",
    "    Day_of_Week\n",
    "    Scheduled_Departure \n",
    "    Scheduled_Arrival\n",
    "    Wheels_On\n",
    "    Wheels_Off\n",
    "    Arrival_Time\n",
    "\n",
    "Airline Dimension:\n",
    "\n",
    "    IATA_CODE (Identifier)\n",
    "    Airline (Name)\n",
    "    Country\n",
    "\n",
    "Flight Dimension:\n",
    "\n",
    "    Flight_ID\n",
    "    Flight_Number\n",
    "    Tail_Number\n",
    "\n",
    "Flight Status Dimension:\n",
    "    \n",
    "    On time\n",
    "    Diverted\n",
    "    Cancelled\n",
    "    Cancelled Reason\n",
    "\n",
    "\n",
    "Airport Dimension:\n",
    "\n",
    "    IATA_CODE (Location Identifier)\n",
    "    Airport (Name)\n",
    "    Latitude\n",
    "    Longitude\n",
    "    City\n",
    "    State\n",
    "    Country\n",
    "\n",
    "\n"
   ]
  },
  {
   "cell_type": "markdown",
   "metadata": {},
   "source": [
    "Dimension Schema:\n",
    "![Demensions Schema](./dimensionsSchema.png)"
   ]
  },
  {
   "cell_type": "markdown",
   "metadata": {},
   "source": [
    "Aufgabe 2: Konzeptionelle M/ER Modell"
   ]
  },
  {
   "cell_type": "markdown",
   "metadata": {},
   "source": [
    "Conceptual Model:\n",
    "![Conceptual Model](./conceptModel.png)"
   ]
  },
  {
   "cell_type": "markdown",
   "metadata": {},
   "source": [
    "Aufgabe 3: Logical Model"
   ]
  },
  {
   "cell_type": "markdown",
   "metadata": {},
   "source": [
    "Logical Model:\n",
    "![Logical Model](./logicalModel.png)"
   ]
  },
  {
   "cell_type": "markdown",
   "metadata": {},
   "source": [
    "Aufgabe 4: RelationaleTabellen (DDL Statements)"
   ]
  },
  {
   "cell_type": "markdown",
   "metadata": {},
   "source": [
    "```sql\n",
    "-- Dimensionstabellen\n",
    "\n",
    "-- Airport Dimension\n",
    "CREATE TABLE dim_airport (\n",
    "    airport_id INTEGER PRIMARY KEY,\n",
    "    iata_code VARCHAR(3) NOT NULL,\n",
    "    latitude DECIMAL(9,6),\n",
    "    longitude DECIMAL(9,6),\n",
    "    city VARCHAR(100),\n",
    "    state VARCHAR(50),\n",
    "    country VARCHAR(100)\n",
    ");\n",
    "\n",
    "-- Airline Dimension\n",
    "CREATE TABLE dim_airline (\n",
    "    airline_id INTEGER PRIMARY KEY,\n",
    "    iata_code VARCHAR(3) NOT NULL\n",
    ");\n",
    "\n",
    "-- Status Dimension\n",
    "CREATE TABLE dim_status (\n",
    "    status_id INTEGER PRIMARY KEY,\n",
    "    diverted BOOLEAN DEFAULT FALSE,\n",
    "    cancelled BOOLEAN DEFAULT FALSE,\n",
    "    cancelled_reason VARCHAR(200)\n",
    ");\n",
    "\n",
    "-- Date Dimension\n",
    "CREATE TABLE dim_date (\n",
    "    date_id INTEGER PRIMARY KEY,\n",
    "    day INTEGER NOT NULL,\n",
    "    month INTEGER NOT NULL,\n",
    "    year INTEGER NOT NULL,\n",
    "    day_of_week INTEGER NOT NULL,\n",
    "    -- Zusätzliche nützliche Zeitattribute\n",
    "    is_weekend BOOLEAN,\n",
    "    quarter INTEGER,\n",
    "    month_name VARCHAR(10),\n",
    "    day_name VARCHAR(10)\n",
    ");\n",
    "\n",
    "-- Faktentabelle\n",
    "CREATE TABLE fact_flights (\n",
    "    flight_id INTEGER PRIMARY KEY,\n",
    "    flight_number VARCHAR(10) NOT NULL,\n",
    "    tail_number VARCHAR(10),\n",
    "    date_id INTEGER,\n",
    "    airline_id INTEGER,\n",
    "    origin_airport_id INTEGER,\n",
    "    destination_airport_id INTEGER,\n",
    "    status_id INTEGER,\n",
    "    \n",
    "    -- Zeitbezogene Metriken\n",
    "    scheduled_time TIMESTAMP,\n",
    "    scheduled_departure TIMESTAMP,\n",
    "    scheduled_arrival TIMESTAMP,\n",
    "    departure_time TIMESTAMP,\n",
    "    wheels_off TIMESTAMP,\n",
    "    wheels_on TIMESTAMP,\n",
    "    taxi_out INTEGER,  -- in Minuten\n",
    "    taxi_in INTEGER,   -- in Minuten\n",
    "    air_time INTEGER,  -- in Minuten\n",
    "    elasped_time INTEGER, -- in Minuten\n",
    "    \n",
    "    -- Distanz\n",
    "    distance DECIMAL(10,2), -- in Meilen oder Kilometern\n",
    "    \n",
    "    -- Verzögerungsmetriken (in Minuten)\n",
    "    arrival_delay INTEGER,\n",
    "    departure_delay INTEGER,\n",
    "    air_system_delay INTEGER,\n",
    "    airline_delay INTEGER,\n",
    "    security_delay INTEGER,\n",
    "    weather_delay INTEGER,\n",
    "    late_aircraft_delay INTEGER,\n",
    "    \n",
    "    -- Fremdschlüssel\n",
    "    FOREIGN KEY (date_id) REFERENCES dim_date(date_id),\n",
    "    FOREIGN KEY (airline_id) REFERENCES dim_airline(airline_id),\n",
    "    FOREIGN KEY (origin_airport_id) REFERENCES dim_airport(airport_id),\n",
    "    FOREIGN KEY (destination_airport_id) REFERENCES dim_airport(airport_id),\n",
    "    FOREIGN KEY (status_id) REFERENCES dim_status(status_id)\n",
    ");\n",
    "\n",
    "-- Indizes für bessere Abfrageleistung\n",
    "CREATE INDEX idx_flight_date ON fact_flights(date_id);\n",
    "CREATE INDEX idx_flight_airline ON fact_flights(airline_id);\n",
    "CREATE INDEX idx_flight_origin ON fact_flights(origin_airport_id);\n",
    "CREATE INDEX idx_flight_destination ON fact_flights(destination_airport_id);\n",
    "CREATE INDEX idx_flight_status ON fact_flights(status_id);\n",
    "\n",
    "-- Zusätzliche Indizes für häufig verwendete Attribute\n",
    "CREATE INDEX idx_airport_iata ON dim_airport(iata_code);\n",
    "CREATE INDEX idx_airline_iata ON dim_airline(iata_code);\n",
    "CREATE INDEX idx_date_components ON dim_date(year, month, day);\n",
    "\n",
    "```\n"
   ]
  }
 ],
 "metadata": {
  "kernelspec": {
   "display_name": "nlpcourse",
   "language": "python",
   "name": "python3"
  },
  "language_info": {
   "name": "python",
   "version": "3.9.18"
  }
 },
 "nbformat": 4,
 "nbformat_minor": 2
}
