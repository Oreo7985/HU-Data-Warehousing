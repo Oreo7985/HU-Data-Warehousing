{
 "cells": [
  {
   "cell_type": "markdown",
   "metadata": {},
   "source": [
    "# Uebung3"
   ]
  },
  {
   "cell_type": "markdown",
   "metadata": {},
   "source": [
    "## Benötigte Pakete:\n",
    "\n",
    "   \n",
    "    - Oracle-Pandas: 'pip install pandas-oracle', https://github.com/cwade/pandas_oracle\n",
    "    - cx_Oracle: siehe unten\n",
    "    - Seaborn, Pandas, Numpy, etc \n",
    "\n",
    "\n",
    "## Anleitung: \n",
    "\n",
    "- Installiert `cx_Oracle`\n",
    "- Ladet den Oracle Instant Client herunter:\n",
    "https://www.oracle.com/database/technologies/instant-client/downloads.html\n",
    "- Führt die entsprechenden Installationsanweisungen durch"
   ]
  },
  {
   "cell_type": "code",
   "execution_count": 1,
   "metadata": {},
   "outputs": [
    {
     "name": "stdout",
     "output_type": "stream",
     "text": [
      "Requirement already satisfied: cx_Oracle in /opt/anaconda3/envs/data/lib/python3.11/site-packages (8.3.0)\n",
      "Requirement already satisfied: pandas-oracle in /opt/anaconda3/envs/data/lib/python3.11/site-packages (2.1.4)\n",
      "Requirement already satisfied: pandas in /opt/anaconda3/envs/data/lib/python3.11/site-packages (from pandas-oracle) (2.2.3)\n",
      "Requirement already satisfied: cx-Oracle in /opt/anaconda3/envs/data/lib/python3.11/site-packages (from pandas-oracle) (8.3.0)\n",
      "Requirement already satisfied: pyaml in /opt/anaconda3/envs/data/lib/python3.11/site-packages (from pandas-oracle) (24.12.1)\n",
      "Requirement already satisfied: numpy>=1.23.2 in /opt/anaconda3/envs/data/lib/python3.11/site-packages (from pandas->pandas-oracle) (1.26.4)\n",
      "Requirement already satisfied: python-dateutil>=2.8.2 in /opt/anaconda3/envs/data/lib/python3.11/site-packages (from pandas->pandas-oracle) (2.9.0)\n",
      "Requirement already satisfied: pytz>=2020.1 in /opt/anaconda3/envs/data/lib/python3.11/site-packages (from pandas->pandas-oracle) (2024.1)\n",
      "Requirement already satisfied: tzdata>=2022.7 in /opt/anaconda3/envs/data/lib/python3.11/site-packages (from pandas->pandas-oracle) (2023.3)\n",
      "Requirement already satisfied: PyYAML in /opt/anaconda3/envs/data/lib/python3.11/site-packages (from pyaml->pandas-oracle) (6.0.2)\n",
      "Requirement already satisfied: six>=1.5 in /opt/anaconda3/envs/data/lib/python3.11/site-packages (from python-dateutil>=2.8.2->pandas->pandas-oracle) (1.16.0)\n"
     ]
    }
   ],
   "source": [
    "# Bei Bedarf auskommentieren\n",
    "!python -m pip install cx_Oracle --upgrade\n",
    "!python -m pip install pandas-oracle"
   ]
  },
  {
   "cell_type": "markdown",
   "metadata": {},
   "source": [
    "## Pfad setzen"
   ]
  },
  {
   "cell_type": "code",
   "execution_count": 2,
   "metadata": {},
   "outputs": [],
   "source": [
    "import cx_Oracle \n",
    "\n",
    "# Pfad anpassen!!\n",
    "path_to_instant_client = \"/Users/luhangfang/Documents/Software/instantclient_23_3\"\n",
    "try:\n",
    "    cx_Oracle.init_oracle_client(lib_dir=path_to_instant_client)\n",
    "except cx_Oracle.ProgrammingError as e:\n",
    "    if \"already been initialized\" not in str(e):\n",
    "        raise    "
   ]
  },
  {
   "cell_type": "markdown",
   "metadata": {},
   "source": [
    "## HU-VPN  aktivieren oder in HU-Netzwerk (WLAN) einloggen.\n",
    "\n",
    "Anleitungen:\n",
    "https://www.cms.hu-berlin.de/de/dl/netze/vpn\n"
   ]
  },
  {
   "cell_type": "markdown",
   "metadata": {},
   "source": [
    "## Verbindungsdaten: \n",
    "Die Verbindungsdaten werden in `config.yml` gespeichert. Die Datein *muss* im gleichen Ordner liegen."
   ]
  },
  {
   "cell_type": "code",
   "execution_count": 3,
   "metadata": {},
   "outputs": [],
   "source": [
    "import cx_Oracle\n",
    "\n",
    "import pandas_oracle.tools as pt\n",
    "import numpy as np\n",
    "import pandas as pd\n",
    "\n",
    "# visualization\n",
    "import seaborn as sns\n",
    "import matplotlib.pyplot as plt\n",
    "import folium\n",
    "from folium import plugins"
   ]
  },
  {
   "cell_type": "markdown",
   "metadata": {},
   "source": [
    "## Verbindungsaufbau:"
   ]
  },
  {
   "cell_type": "code",
   "execution_count": 4,
   "metadata": {},
   "outputs": [],
   "source": [
    "def run_query(query) :\n",
    "    ## opening conn\n",
    "    conn = pt.open_connection(\"config.yml\")\n",
    "\n",
    "    try:\n",
    "        ## passing the conn object to the query_to_df\n",
    "        df1 = pt.query_to_df(query, conn, 10000)\n",
    "        return df1\n",
    "    except Exception as e:\n",
    "        print(\"An exception occurred\")\n",
    "        print(str(e))\n",
    "    finally:\n",
    "        ## close connection\n",
    "        pt.close_connection(conn)"
   ]
  },
  {
   "cell_type": "markdown",
   "metadata": {},
   "source": [
    "*Wichtig: die Verbindungs zur DB muss geschlossen werden, wenn ein Fehler auftritt.*"
   ]
  },
  {
   "cell_type": "markdown",
   "metadata": {},
   "source": [
    "## EXPLAIN PLAN"
   ]
  },
  {
   "cell_type": "code",
   "execution_count": 5,
   "metadata": {},
   "outputs": [],
   "source": [
    "def explain_plan_query(query) :\n",
    "    ## opening conn\n",
    "    conn = pt.open_connection(\"config.yml\")\n",
    "    try:\n",
    "        # There is small change \n",
    "        #  (\"+query+\")\" => \" + query\n",
    "        # query_explain = \"EXPLAIN PLAN FOR (\"+query+\")\"\n",
    "        query_explain = \"EXPLAIN PLAN FOR \" + query\n",
    "        pt.execute(query_explain, conn)        \n",
    "        query2 = \"SELECT PLAN_TABLE_OUTPUT FROM TABLE(DBMS_XPLAN.DISPLAY())\"\n",
    "        \n",
    "        df = pt.query_to_df(query2, conn, 10000)\n",
    "        return df\n",
    "    except Exception as e:\n",
    "        print(\"An exception occurred:\", str(e))\n",
    "    finally:\n",
    "        ## close connection\n",
    "        pt.close_connection(conn)"
   ]
  },
  {
   "cell_type": "code",
   "execution_count": 6,
   "metadata": {},
   "outputs": [
    {
     "name": "stdout",
     "output_type": "stream",
     "text": [
      "                                                              PLAN_TABLE_OUTPUT\n",
      "0                                                   Plan hash value: 3893133417\n",
      "1                                                                              \n",
      "2  ----------------------------------------------------------------------------\n",
      "3  | Id  | Operation         | Name   | Rows  | Bytes | Cost (%CPU)| Time     |\n",
      "4  ----------------------------------------------------------------------------\n",
      "5  |   0 | SELECT STATEMENT  |        |  5332K|   472M| 22662   (2)| 00:00:01 |\n",
      "6  |   1 |  TABLE ACCESS FULL| DELAYS |  5332K|   472M| 22662   (2)| 00:00:01 |\n",
      "7  ----------------------------------------------------------------------------\n"
     ]
    }
   ],
   "source": [
    "query = \"SELECT * FROM delays\"\n",
    "df = explain_plan_query(query)\n",
    "\n",
    "print(df.to_string())"
   ]
  },
  {
   "cell_type": "markdown",
   "metadata": {},
   "source": [
    "#### 1.Ursache der Verspätung"
   ]
  },
  {
   "cell_type": "markdown",
   "metadata": {},
   "source": [
    "##### SQL"
   ]
  },
  {
   "cell_type": "code",
   "execution_count": null,
   "metadata": {},
   "outputs": [
    {
     "data": {
      "text/html": [
       "<div>\n",
       "<style scoped>\n",
       "    .dataframe tbody tr th:only-of-type {\n",
       "        vertical-align: middle;\n",
       "    }\n",
       "\n",
       "    .dataframe tbody tr th {\n",
       "        vertical-align: top;\n",
       "    }\n",
       "\n",
       "    .dataframe thead th {\n",
       "        text-align: right;\n",
       "    }\n",
       "</style>\n",
       "<table border=\"1\" class=\"dataframe\">\n",
       "  <thead>\n",
       "    <tr style=\"text-align: right;\">\n",
       "      <th></th>\n",
       "      <th>AIR_SYSTEM_DELAY</th>\n",
       "      <th>SECURITY_DELAY</th>\n",
       "      <th>AIRLINE_DELAY</th>\n",
       "      <th>LATE_AIRCRAFT_DELAY</th>\n",
       "      <th>WEATHER_DELAY</th>\n",
       "    </tr>\n",
       "  </thead>\n",
       "  <tbody>\n",
       "    <tr>\n",
       "      <th>0</th>\n",
       "      <td>13533065</td>\n",
       "      <td>77945</td>\n",
       "      <td>18966945</td>\n",
       "      <td>23767674</td>\n",
       "      <td>2991008</td>\n",
       "    </tr>\n",
       "  </tbody>\n",
       "</table>\n",
       "</div>"
      ],
      "text/plain": [
       "   AIR_SYSTEM_DELAY  SECURITY_DELAY  AIRLINE_DELAY  LATE_AIRCRAFT_DELAY  \\\n",
       "0          13533065           77945       18966945             23767674   \n",
       "\n",
       "   WEATHER_DELAY  \n",
       "0        2991008  "
      ]
     },
     "execution_count": 14,
     "metadata": {},
     "output_type": "execute_result"
    }
   ],
   "source": [
    "# Old Query\n",
    "#\n",
    "# query1_1 = \"\"\"\n",
    "# SELECT \n",
    "#     CASE \n",
    "#         WHEN delay_type = 'air_system_delay' THEN 'Air System Delay'\n",
    "#         WHEN delay_type = 'security_delay' THEN 'Security Delay'\n",
    "#         WHEN delay_type = 'airline_delay' THEN 'Airline Delay'\n",
    "#         WHEN delay_type = 'late_aircraft_delay' THEN 'Late Aircraft Delay'\n",
    "#         WHEN delay_type = 'weather_delay' THEN 'Weather Delay'\n",
    "#     END as delay_category,\n",
    "#     SUM(delay_minutes) as total_minutes,\n",
    "#     ROUND(SUM(delay_minutes) * 100.0 / SUM(SUM(delay_minutes)) OVER (), 2) as percentage\n",
    "# FROM (\n",
    "#     SELECT 'air_system_delay' as delay_type, COALESCE(air_system_delay, 0) as delay_minutes FROM delays\n",
    "#     UNION ALL\n",
    "#     SELECT 'security_delay', COALESCE(security_delay, 0) FROM delays\n",
    "#     UNION ALL\n",
    "#     SELECT 'airline_delay', COALESCE(airline_delay, 0) FROM delays\n",
    "#     UNION ALL\n",
    "#     SELECT 'late_aircraft_delay', COALESCE(late_aircraft_delay, 0) FROM delays\n",
    "#     UNION ALL\n",
    "#     SELECT 'weather_delay', COALESCE(weather_delay, 0) FROM delays\n",
    "# ) unpivoted\n",
    "# GROUP BY delay_type\n",
    "# HAVING SUM(delay_minutes) > 0\n",
    "# ORDER BY total_minutes DESC\n",
    "# \"\"\"\n",
    "\n",
    "# New Query\n",
    "query1_1 = \"\"\"\n",
    "SELECT\n",
    "SUM(air_system_delay) AS air_system_delay,\n",
    "SUM(security_delay) AS security_delay,\n",
    "SUM(airline_delay) AS airline_delay,\n",
    "SUM(late_aircraft_delay) AS late_aircraft_delay,\n",
    "SUM(weather_delay) AS weather_delay\n",
    "FROM delays d\n",
    "WHERE d.arrival_delay > 0\n",
    "\"\"\"\n",
    "df1_1 = run_query(query1_1)\n",
    "df1_1"
   ]
  },
  {
   "cell_type": "markdown",
   "metadata": {},
   "source": [
    "##### Visualisierung"
   ]
  },
  {
   "cell_type": "markdown",
   "metadata": {},
   "source": [
    "![1.png](1_1_new.png)"
   ]
  },
  {
   "cell_type": "markdown",
   "metadata": {},
   "source": [
    "#### EXPLAIN PLAN und Indices"
   ]
  },
  {
   "cell_type": "code",
   "execution_count": null,
   "metadata": {},
   "outputs": [
    {
     "name": "stdout",
     "output_type": "stream",
     "text": [
      "                                                                PLAN_TABLE_OUTPUT\n",
      "0                                                     Plan hash value: 2933321896\n",
      "1                                                                                \n",
      "2   -----------------------------------------------------------------------------\n",
      "3   | Id  | Operation          | Name   | Rows  | Bytes | Cost (%CPU)| Time     |\n",
      "4   -----------------------------------------------------------------------------\n",
      "5   |   0 | SELECT STATEMENT   |        |     1 |    14 | 22650   (2)| 00:00:01 |\n",
      "6   |   1 |  SORT AGGREGATE    |        |     1 |    14 |            |          |\n",
      "7   |*  2 |   TABLE ACCESS FULL| DELAYS |  1899K|    25M| 22650   (2)| 00:00:01 |\n",
      "8   -----------------------------------------------------------------------------\n",
      "9                                                                                \n",
      "10                            Predicate Information (identified by operation id):\n",
      "11                            ---------------------------------------------------\n",
      "12                                                                               \n",
      "13                                              2 - filter(\"D\".\"ARRIVAL_DELAY\">0)\n"
     ]
    }
   ],
   "source": [
    "# Index Vorschlag\n",
    "query1_2 = \"\"\"\n",
    "CREATE INDEX idx_delay_delays ON delays (\n",
    "    air_system_delay,\n",
    "    security_delay,\n",
    "    airline_delay,\n",
    "    late_aircraft_delay,\n",
    "    weather_delay\n",
    ")\n",
    "\"\"\"\n",
    "\n",
    "# Explain Plan\n",
    "df1_3 = explain_plan_query(query1_1)\n",
    "print(df1_3.to_string())"
   ]
  },
  {
   "cell_type": "markdown",
   "metadata": {},
   "source": [
    "### 3.2 Analyse:Region"
   ]
  },
  {
   "cell_type": "markdown",
   "metadata": {},
   "source": [
    "#### 3.2.1 SQL"
   ]
  },
  {
   "cell_type": "code",
   "execution_count": null,
   "metadata": {},
   "outputs": [
    {
     "data": {
      "text/html": [
       "<div>\n",
       "<style scoped>\n",
       "    .dataframe tbody tr th:only-of-type {\n",
       "        vertical-align: middle;\n",
       "    }\n",
       "\n",
       "    .dataframe tbody tr th {\n",
       "        vertical-align: top;\n",
       "    }\n",
       "\n",
       "    .dataframe thead th {\n",
       "        text-align: right;\n",
       "    }\n",
       "</style>\n",
       "<table border=\"1\" class=\"dataframe\">\n",
       "  <thead>\n",
       "    <tr style=\"text-align: right;\">\n",
       "      <th></th>\n",
       "      <th>COUNT(D.ORIGIN_AIRPORT)</th>\n",
       "      <th>AIRPORT</th>\n",
       "      <th>STATE</th>\n",
       "    </tr>\n",
       "  </thead>\n",
       "  <tbody>\n",
       "    <tr>\n",
       "      <th>0</th>\n",
       "      <td>55</td>\n",
       "      <td>Adak Airport</td>\n",
       "      <td>AK</td>\n",
       "    </tr>\n",
       "    <tr>\n",
       "      <th>1</th>\n",
       "      <td>257</td>\n",
       "      <td>Bethel Airport</td>\n",
       "      <td>AK</td>\n",
       "    </tr>\n",
       "    <tr>\n",
       "      <th>2</th>\n",
       "      <td>230</td>\n",
       "      <td>Deadhorse Airport (Prudhoe Bay Airport)</td>\n",
       "      <td>AK</td>\n",
       "    </tr>\n",
       "    <tr>\n",
       "      <th>3</th>\n",
       "      <td>25</td>\n",
       "      <td>Dillingham Airport</td>\n",
       "      <td>AK</td>\n",
       "    </tr>\n",
       "    <tr>\n",
       "      <th>4</th>\n",
       "      <td>563</td>\n",
       "      <td>Fairbanks International Airport</td>\n",
       "      <td>AK</td>\n",
       "    </tr>\n",
       "    <tr>\n",
       "      <th>...</th>\n",
       "      <td>...</td>\n",
       "      <td>...</td>\n",
       "      <td>...</td>\n",
       "    </tr>\n",
       "    <tr>\n",
       "      <th>317</th>\n",
       "      <td>903</td>\n",
       "      <td>Jackson Hole Airport</td>\n",
       "      <td>WY</td>\n",
       "    </tr>\n",
       "    <tr>\n",
       "      <th>318</th>\n",
       "      <td>110</td>\n",
       "      <td>Laramie Regional Airport</td>\n",
       "      <td>WY</td>\n",
       "    </tr>\n",
       "    <tr>\n",
       "      <th>319</th>\n",
       "      <td>319</td>\n",
       "      <td>Natrona County International Airport</td>\n",
       "      <td>WY</td>\n",
       "    </tr>\n",
       "    <tr>\n",
       "      <th>320</th>\n",
       "      <td>114</td>\n",
       "      <td>Rock Springs-Sweetwater County Airport</td>\n",
       "      <td>WY</td>\n",
       "    </tr>\n",
       "    <tr>\n",
       "      <th>321</th>\n",
       "      <td>207</td>\n",
       "      <td>Yellowstone Regional Airport</td>\n",
       "      <td>WY</td>\n",
       "    </tr>\n",
       "  </tbody>\n",
       "</table>\n",
       "<p>322 rows × 3 columns</p>\n",
       "</div>"
      ],
      "text/plain": [
       "     COUNT(D.ORIGIN_AIRPORT)                                  AIRPORT STATE\n",
       "0                         55                             Adak Airport    AK\n",
       "1                        257                           Bethel Airport    AK\n",
       "2                        230  Deadhorse Airport (Prudhoe Bay Airport)    AK\n",
       "3                         25                       Dillingham Airport    AK\n",
       "4                        563          Fairbanks International Airport    AK\n",
       "..                       ...                                      ...   ...\n",
       "317                      903                     Jackson Hole Airport    WY\n",
       "318                      110                 Laramie Regional Airport    WY\n",
       "319                      319     Natrona County International Airport    WY\n",
       "320                      114   Rock Springs-Sweetwater County Airport    WY\n",
       "321                      207             Yellowstone Regional Airport    WY\n",
       "\n",
       "[322 rows x 3 columns]"
      ]
     },
     "execution_count": 11,
     "metadata": {},
     "output_type": "execute_result"
    }
   ],
   "source": [
    "# Old Query\n",
    "#  \n",
    "# query2_1 =\"\"\"\n",
    "# SELECT \n",
    "#     f.origin_state as STATE,\n",
    "#     f.origin_airport as AIRPORT,\n",
    "#     f.origin_city as City,\n",
    "#     f.origin_latitude/100000.0 as LATITUDE,  \n",
    "#     f.origin_longitude/100000.0 as LONGITUDE,  \n",
    "#     COUNT(*) as TOTAL_FLIGHTS,\n",
    "#     SUM(CASE WHEN d.departure_delay > 0 THEN 1 ELSE 0 END) as DELAYED_FLIGHTS,\n",
    "#     ROUND(SUM(CASE WHEN d.departure_delay > 0 THEN 1 ELSE 0 END) * 100.0 / COUNT(*), 2) as DELAY_PERCENTAGE,\n",
    "#     ROUND(AVG(CASE WHEN d.departure_delay > 0 THEN d.departure_delay ELSE NULL END), 2) as AVG_DELAY_MINUTES\n",
    "# FROM Flight f\n",
    "# JOIN Delays d ON f.flight_id = d.flight_id\n",
    "# GROUP BY \n",
    "#     f.origin_state,\n",
    "#     f.origin_airport,\n",
    "#     f.origin_city,\n",
    "#     f.origin_latitude,\n",
    "#     f.origin_longitude\n",
    "# HAVING COUNT(*) > 100\n",
    "# \"\"\"\n",
    "\n",
    "\n",
    "# New Query\n",
    "query2_1 =\"\"\"\n",
    "select count(d.origin_airport),a.airport, a.state\n",
    "from delays d\n",
    "join airport a\n",
    "on d.origin_airport = a.iata_code\n",
    "where d.departure_delay > 0\n",
    "group by a.state, a.airport\n",
    "order by a.state\n",
    "\"\"\"\n",
    "df2_1 = run_query(query2_1)\n",
    "df2_1"
   ]
  },
  {
   "cell_type": "markdown",
   "metadata": {},
   "source": [
    "#### Visualisierung"
   ]
  },
  {
   "cell_type": "markdown",
   "metadata": {},
   "source": [
    "![2.1.png](2_1.png)"
   ]
  },
  {
   "cell_type": "markdown",
   "metadata": {},
   "source": [
    "![2.2.png](2_2.png)"
   ]
  },
  {
   "cell_type": "markdown",
   "metadata": {},
   "source": [
    "#### EXPLAIN PLAN und Indices"
   ]
  },
  {
   "cell_type": "code",
   "execution_count": null,
   "metadata": {},
   "outputs": [
    {
     "name": "stdout",
     "output_type": "stream",
     "text": [
      "                                                                     PLAN_TABLE_OUTPUT\n",
      "0                                                          Plan hash value: 3775427858\n",
      "1                                                                                     \n",
      "2   ----------------------------------------------------------------------------------\n",
      "3   | Id  | Operation             | Name     | Rows  | Bytes | Cost (%CPU)| Time     |\n",
      "4   ----------------------------------------------------------------------------------\n",
      "5   |   0 | SELECT STATEMENT      |          |   322 | 18676 | 22696   (2)| 00:00:01 |\n",
      "6   |   1 |  SORT GROUP BY        |          |   322 | 18676 | 22696   (2)| 00:00:01 |\n",
      "7   |*  2 |   HASH JOIN           |          |   322 | 18676 | 22695   (2)| 00:00:01 |\n",
      "8   |   3 |    VIEW               | VW_GBC_5 |   322 |  5474 | 22692   (2)| 00:00:01 |\n",
      "9   |   4 |     HASH GROUP BY     |          |   322 |  2576 | 22692   (2)| 00:00:01 |\n",
      "10  |*  5 |      TABLE ACCESS FULL| DELAYS   |  2002K|    15M| 22550   (1)| 00:00:01 |\n",
      "11  |   6 |    TABLE ACCESS FULL  | AIRPORT  |   322 | 13202 |     3   (0)| 00:00:01 |\n",
      "12  ----------------------------------------------------------------------------------\n",
      "13                                                                                    \n",
      "14                                 Predicate Information (identified by operation id):\n",
      "15                                 ---------------------------------------------------\n",
      "16                                                                                    \n",
      "17                                                2 - access(\"ITEM_1\"=\"A\".\"IATA_CODE\")\n",
      "18                                                 5 - filter(\"D\".\"DEPARTURE_DELAY\">0)\n"
     ]
    }
   ],
   "source": [
    "# Index Vorschlag\n",
    "query2_2 = \"\"\"\n",
    "-- Create Index: airport name and state\n",
    "CREATE INDEX idx_state_airport ON airport (state, airport);\n",
    "\"\"\"\n",
    "\n",
    "# Explain Plan\n",
    "df2_3 = explain_plan_query(query2_1)\n",
    "print(df2_3.to_string())"
   ]
  },
  {
   "cell_type": "markdown",
   "metadata": {},
   "source": [
    "### 3.Analyse:Weather"
   ]
  },
  {
   "cell_type": "markdown",
   "metadata": {},
   "source": [
    "#### 3.1 10 Tage meisten Stornierungen wegen Wetter"
   ]
  },
  {
   "cell_type": "markdown",
   "metadata": {},
   "source": [
    "#### SQL"
   ]
  },
  {
   "cell_type": "code",
   "execution_count": 14,
   "metadata": {},
   "outputs": [
    {
     "data": {
      "text/html": [
       "<div>\n",
       "<style scoped>\n",
       "    .dataframe tbody tr th:only-of-type {\n",
       "        vertical-align: middle;\n",
       "    }\n",
       "\n",
       "    .dataframe tbody tr th {\n",
       "        vertical-align: top;\n",
       "    }\n",
       "\n",
       "    .dataframe thead th {\n",
       "        text-align: right;\n",
       "    }\n",
       "</style>\n",
       "<table border=\"1\" class=\"dataframe\">\n",
       "  <thead>\n",
       "    <tr style=\"text-align: right;\">\n",
       "      <th></th>\n",
       "      <th>YEAR</th>\n",
       "      <th>MONTH</th>\n",
       "      <th>DAY</th>\n",
       "      <th>WEATHER_CANCELLATIONS</th>\n",
       "      <th>PERCENTAGE_OF_TOTAL</th>\n",
       "    </tr>\n",
       "  </thead>\n",
       "  <tbody>\n",
       "    <tr>\n",
       "      <th>0</th>\n",
       "      <td>2015</td>\n",
       "      <td>1</td>\n",
       "      <td>9</td>\n",
       "      <td>136</td>\n",
       "      <td>0.28</td>\n",
       "    </tr>\n",
       "    <tr>\n",
       "      <th>1</th>\n",
       "      <td>2015</td>\n",
       "      <td>1</td>\n",
       "      <td>14</td>\n",
       "      <td>81</td>\n",
       "      <td>0.17</td>\n",
       "    </tr>\n",
       "    <tr>\n",
       "      <th>2</th>\n",
       "      <td>2015</td>\n",
       "      <td>1</td>\n",
       "      <td>15</td>\n",
       "      <td>27</td>\n",
       "      <td>0.06</td>\n",
       "    </tr>\n",
       "    <tr>\n",
       "      <th>3</th>\n",
       "      <td>2015</td>\n",
       "      <td>1</td>\n",
       "      <td>16</td>\n",
       "      <td>19</td>\n",
       "      <td>0.04</td>\n",
       "    </tr>\n",
       "    <tr>\n",
       "      <th>4</th>\n",
       "      <td>2015</td>\n",
       "      <td>2</td>\n",
       "      <td>6</td>\n",
       "      <td>135</td>\n",
       "      <td>0.28</td>\n",
       "    </tr>\n",
       "    <tr>\n",
       "      <th>...</th>\n",
       "      <td>...</td>\n",
       "      <td>...</td>\n",
       "      <td>...</td>\n",
       "      <td>...</td>\n",
       "      <td>...</td>\n",
       "    </tr>\n",
       "    <tr>\n",
       "      <th>326</th>\n",
       "      <td>2015</td>\n",
       "      <td>11</td>\n",
       "      <td>30</td>\n",
       "      <td>30</td>\n",
       "      <td>0.06</td>\n",
       "    </tr>\n",
       "    <tr>\n",
       "      <th>327</th>\n",
       "      <td>2015</td>\n",
       "      <td>12</td>\n",
       "      <td>8</td>\n",
       "      <td>34</td>\n",
       "      <td>0.07</td>\n",
       "    </tr>\n",
       "    <tr>\n",
       "      <th>328</th>\n",
       "      <td>2015</td>\n",
       "      <td>12</td>\n",
       "      <td>11</td>\n",
       "      <td>14</td>\n",
       "      <td>0.03</td>\n",
       "    </tr>\n",
       "    <tr>\n",
       "      <th>329</th>\n",
       "      <td>2015</td>\n",
       "      <td>12</td>\n",
       "      <td>10</td>\n",
       "      <td>22</td>\n",
       "      <td>0.05</td>\n",
       "    </tr>\n",
       "    <tr>\n",
       "      <th>330</th>\n",
       "      <td>2015</td>\n",
       "      <td>12</td>\n",
       "      <td>18</td>\n",
       "      <td>72</td>\n",
       "      <td>0.15</td>\n",
       "    </tr>\n",
       "  </tbody>\n",
       "</table>\n",
       "<p>331 rows × 5 columns</p>\n",
       "</div>"
      ],
      "text/plain": [
       "     YEAR  MONTH  DAY  WEATHER_CANCELLATIONS  PERCENTAGE_OF_TOTAL\n",
       "0    2015      1    9                    136                 0.28\n",
       "1    2015      1   14                     81                 0.17\n",
       "2    2015      1   15                     27                 0.06\n",
       "3    2015      1   16                     19                 0.04\n",
       "4    2015      2    6                    135                 0.28\n",
       "..    ...    ...  ...                    ...                  ...\n",
       "326  2015     11   30                     30                 0.06\n",
       "327  2015     12    8                     34                 0.07\n",
       "328  2015     12   11                     14                 0.03\n",
       "329  2015     12   10                     22                 0.05\n",
       "330  2015     12   18                     72                 0.15\n",
       "\n",
       "[331 rows x 5 columns]"
      ]
     },
     "execution_count": 14,
     "metadata": {},
     "output_type": "execute_result"
    }
   ],
   "source": [
    "# Query 1: Top 10 days with most weather-related cancellations\n",
    "query3_1 = \"\"\"\n",
    "SELECT \n",
    "    f.year,\n",
    "    f.month,\n",
    "    f.day,\n",
    "    COUNT(*) as WEATHER_CANCELLATIONS,\n",
    "    ROUND(COUNT(*) * 100.0 / (SELECT COUNT(*) \n",
    "                              FROM Delays \n",
    "                              WHERE cancelled = 1 \n",
    "                              AND cancellation_reason = 'B'), 2) as PERCENTAGE_OF_TOTAL\n",
    "FROM Delays f\n",
    "WHERE f.cancelled = 1 \n",
    "AND f.cancellation_reason = 'B'\n",
    "GROUP BY f.year, f.month, f.day\n",
    "\"\"\"\n",
    "df3_1 = run_query(query3_1)\n",
    "df3_1"
   ]
  },
  {
   "cell_type": "markdown",
   "metadata": {},
   "source": [
    "#### Visualisierung"
   ]
  },
  {
   "cell_type": "markdown",
   "metadata": {},
   "source": [
    "![3.1.png](3.1.png)"
   ]
  },
  {
   "cell_type": "markdown",
   "metadata": {},
   "source": [
    "EXPLAIN PLAN und Indices"
   ]
  },
  {
   "cell_type": "code",
   "execution_count": 15,
   "metadata": {},
   "outputs": [
    {
     "name": "stdout",
     "output_type": "stream",
     "text": [
      "                                                                PLAN_TABLE_OUTPUT\n",
      "0                                                     Plan hash value: 1046980958\n",
      "1                                                                                \n",
      "2   -----------------------------------------------------------------------------\n",
      "3   | Id  | Operation          | Name   | Rows  | Bytes | Cost (%CPU)| Time     |\n",
      "4   -----------------------------------------------------------------------------\n",
      "5   |   0 | SELECT STATEMENT   |        |   331 |  4965 | 45240   (2)| 00:00:02 |\n",
      "6   |   1 |  SORT AGGREGATE    |        |     1 |     5 |            |          |\n",
      "7   |*  2 |   TABLE ACCESS FULL| DELAYS | 47874 |   233K| 22618   (2)| 00:00:01 |\n",
      "8   |   3 |  HASH GROUP BY     |        |   331 |  4965 | 45240   (2)| 00:00:02 |\n",
      "9   |*  4 |   TABLE ACCESS FULL| DELAYS | 47874 |   701K| 22618   (2)| 00:00:01 |\n",
      "10  -----------------------------------------------------------------------------\n",
      "11                                                                               \n",
      "12                            Predicate Information (identified by operation id):\n",
      "13                            ---------------------------------------------------\n",
      "14                                                                               \n",
      "15                        2 - filter(\"CANCELLED\"=1 AND \"CANCELLATION_REASON\"='B')\n",
      "16                4 - filter(\"F\".\"CANCELLED\"=1 AND \"F\".\"CANCELLATION_REASON\"='B')\n",
      "17                                                                               \n",
      "18                                                                           Note\n",
      "19                                                                          -----\n",
      "20                          - dynamic statistics used: dynamic sampling (level=2)\n",
      "21                                 - 1 Sql Plan Directive used for this statement\n"
     ]
    }
   ],
   "source": [
    "# Index Vorschlag\n",
    "query3_2 = \"\"\"\n",
    "-- Index for cancelled reason\n",
    "CREATE INDEX idx_delays_cancel ON Delays(cancelled, cancellation_reason);\n",
    "\n",
    "-- special for date\n",
    "CREATE INDEX idx_delays_date ON Delays(year, month, day);\n",
    "\"\"\"\n",
    "\n",
    "# Explain Plan\n",
    "df3_3 = explain_plan_query(query3_1)\n",
    "print(df3_3.to_string())"
   ]
  },
  {
   "cell_type": "markdown",
   "metadata": {},
   "source": [
    "#### 3.2 An welchen Flughafen"
   ]
  },
  {
   "cell_type": "markdown",
   "metadata": {},
   "source": [
    "#### SQL"
   ]
  },
  {
   "cell_type": "code",
   "execution_count": 16,
   "metadata": {},
   "outputs": [
    {
     "data": {
      "text/html": [
       "<div>\n",
       "<style scoped>\n",
       "    .dataframe tbody tr th:only-of-type {\n",
       "        vertical-align: middle;\n",
       "    }\n",
       "\n",
       "    .dataframe tbody tr th {\n",
       "        vertical-align: top;\n",
       "    }\n",
       "\n",
       "    .dataframe thead th {\n",
       "        text-align: right;\n",
       "    }\n",
       "</style>\n",
       "<table border=\"1\" class=\"dataframe\">\n",
       "  <thead>\n",
       "    <tr style=\"text-align: right;\">\n",
       "      <th></th>\n",
       "      <th>STATE</th>\n",
       "      <th>AIRPORT</th>\n",
       "      <th>TOTAL_CANCELLATIONS</th>\n",
       "      <th>WEATHER_CANCELLATIONS</th>\n",
       "      <th>CANCELLATION_PERCENTAGE</th>\n",
       "      <th>AFFECTED_DAYS</th>\n",
       "    </tr>\n",
       "  </thead>\n",
       "  <tbody>\n",
       "    <tr>\n",
       "      <th>0</th>\n",
       "      <td>IL</td>\n",
       "      <td>Chicago O'Hare International Airport</td>\n",
       "      <td>8547</td>\n",
       "      <td>4769</td>\n",
       "      <td>55.80</td>\n",
       "      <td>842</td>\n",
       "    </tr>\n",
       "    <tr>\n",
       "      <th>1</th>\n",
       "      <td>TX</td>\n",
       "      <td>Dallas/Fort Worth International Airport</td>\n",
       "      <td>6254</td>\n",
       "      <td>4664</td>\n",
       "      <td>74.58</td>\n",
       "      <td>456</td>\n",
       "    </tr>\n",
       "    <tr>\n",
       "      <th>2</th>\n",
       "      <td>NY</td>\n",
       "      <td>LaGuardia Airport (Marine Air Terminal)</td>\n",
       "      <td>4531</td>\n",
       "      <td>2191</td>\n",
       "      <td>48.36</td>\n",
       "      <td>391</td>\n",
       "    </tr>\n",
       "    <tr>\n",
       "      <th>3</th>\n",
       "      <td>MA</td>\n",
       "      <td>Gen. Edward Lawrence Logan International Airport</td>\n",
       "      <td>2654</td>\n",
       "      <td>1882</td>\n",
       "      <td>70.91</td>\n",
       "      <td>416</td>\n",
       "    </tr>\n",
       "    <tr>\n",
       "      <th>4</th>\n",
       "      <td>GA</td>\n",
       "      <td>Hartsfield-Jackson Atlanta International Airport</td>\n",
       "      <td>2557</td>\n",
       "      <td>1707</td>\n",
       "      <td>66.76</td>\n",
       "      <td>561</td>\n",
       "    </tr>\n",
       "    <tr>\n",
       "      <th>...</th>\n",
       "      <td>...</td>\n",
       "      <td>...</td>\n",
       "      <td>...</td>\n",
       "      <td>...</td>\n",
       "      <td>...</td>\n",
       "      <td>...</td>\n",
       "    </tr>\n",
       "    <tr>\n",
       "      <th>306</th>\n",
       "      <td>UT</td>\n",
       "      <td>Canyonlands Field</td>\n",
       "      <td>1</td>\n",
       "      <td>1</td>\n",
       "      <td>100.00</td>\n",
       "      <td>1</td>\n",
       "    </tr>\n",
       "    <tr>\n",
       "      <th>307</th>\n",
       "      <td>NY</td>\n",
       "      <td>Plattsburgh International Airport</td>\n",
       "      <td>2</td>\n",
       "      <td>1</td>\n",
       "      <td>50.00</td>\n",
       "      <td>2</td>\n",
       "    </tr>\n",
       "    <tr>\n",
       "      <th>308</th>\n",
       "      <td>HI</td>\n",
       "      <td>Lihue Airport</td>\n",
       "      <td>44</td>\n",
       "      <td>1</td>\n",
       "      <td>2.27</td>\n",
       "      <td>30</td>\n",
       "    </tr>\n",
       "    <tr>\n",
       "      <th>309</th>\n",
       "      <td>NY</td>\n",
       "      <td>Ithaca Tompkins Regional Airport</td>\n",
       "      <td>4</td>\n",
       "      <td>1</td>\n",
       "      <td>25.00</td>\n",
       "      <td>3</td>\n",
       "    </tr>\n",
       "    <tr>\n",
       "      <th>310</th>\n",
       "      <td>ME</td>\n",
       "      <td>Bangor International Airport</td>\n",
       "      <td>3</td>\n",
       "      <td>1</td>\n",
       "      <td>33.33</td>\n",
       "      <td>3</td>\n",
       "    </tr>\n",
       "  </tbody>\n",
       "</table>\n",
       "<p>311 rows × 6 columns</p>\n",
       "</div>"
      ],
      "text/plain": [
       "    STATE                                           AIRPORT  \\\n",
       "0      IL              Chicago O'Hare International Airport   \n",
       "1      TX           Dallas/Fort Worth International Airport   \n",
       "2      NY           LaGuardia Airport (Marine Air Terminal)   \n",
       "3      MA  Gen. Edward Lawrence Logan International Airport   \n",
       "4      GA  Hartsfield-Jackson Atlanta International Airport   \n",
       "..    ...                                               ...   \n",
       "306    UT                                 Canyonlands Field   \n",
       "307    NY                 Plattsburgh International Airport   \n",
       "308    HI                                     Lihue Airport   \n",
       "309    NY                  Ithaca Tompkins Regional Airport   \n",
       "310    ME                      Bangor International Airport   \n",
       "\n",
       "     TOTAL_CANCELLATIONS  WEATHER_CANCELLATIONS  CANCELLATION_PERCENTAGE  \\\n",
       "0                   8547                   4769                    55.80   \n",
       "1                   6254                   4664                    74.58   \n",
       "2                   4531                   2191                    48.36   \n",
       "3                   2654                   1882                    70.91   \n",
       "4                   2557                   1707                    66.76   \n",
       "..                   ...                    ...                      ...   \n",
       "306                    1                      1                   100.00   \n",
       "307                    2                      1                    50.00   \n",
       "308                   44                      1                     2.27   \n",
       "309                    4                      1                    25.00   \n",
       "310                    3                      1                    33.33   \n",
       "\n",
       "     AFFECTED_DAYS  \n",
       "0              842  \n",
       "1              456  \n",
       "2              391  \n",
       "3              416  \n",
       "4              561  \n",
       "..             ...  \n",
       "306              1  \n",
       "307              2  \n",
       "308             30  \n",
       "309              3  \n",
       "310              3  \n",
       "\n",
       "[311 rows x 6 columns]"
      ]
     },
     "execution_count": 16,
     "metadata": {},
     "output_type": "execute_result"
    }
   ],
   "source": [
    "query3_4 = \"\"\"\n",
    "SELECT \n",
    "    f.origin_state as STATE,\n",
    "    f.origin_airport as AIRPORT,\n",
    "    COUNT(*) as TOTAL_CANCELLATIONS,\n",
    "    SUM(CASE WHEN d.cancellation_reason = 'B' THEN 1 ELSE 0 END) as WEATHER_CANCELLATIONS,\n",
    "    ROUND(\n",
    "        (SUM(CASE WHEN d.cancellation_reason = 'B' THEN 1 ELSE 0 END) * 100.0) / \n",
    "        NULLIF(COUNT(*), 0), \n",
    "        2\n",
    "    ) as CANCELLATION_PERCENTAGE,\n",
    "    COUNT(DISTINCT TRUNC(f.scheduled_departure)) as AFFECTED_DAYS\n",
    "FROM Flight f\n",
    "JOIN Delays d ON f.flight_id = d.flight_id\n",
    "WHERE d.cancelled = 1\n",
    "GROUP BY \n",
    "    f.origin_state,\n",
    "    f.origin_airport\n",
    "HAVING SUM(CASE WHEN d.cancellation_reason = 'B' THEN 1 ELSE 0 END) > 0\n",
    "ORDER BY WEATHER_CANCELLATIONS DESC\n",
    "\"\"\"\n",
    "df3_4 = run_query(query3_4)\n",
    "df3_4\n"
   ]
  },
  {
   "cell_type": "markdown",
   "metadata": {},
   "source": [
    "#### Visualisierung"
   ]
  },
  {
   "cell_type": "markdown",
   "metadata": {},
   "source": [
    "![3.2.png](3.2.png)"
   ]
  },
  {
   "cell_type": "markdown",
   "metadata": {},
   "source": [
    "#### EXPLAIN PLAN und Indices"
   ]
  },
  {
   "cell_type": "code",
   "execution_count": 17,
   "metadata": {},
   "outputs": [
    {
     "name": "stdout",
     "output_type": "stream",
     "text": [
      "                                                                               PLAN_TABLE_OUTPUT\n",
      "0                                                                    Plan hash value: 2411417394\n",
      "1                                                                                               \n",
      "2   --------------------------------------------------------------------------------------------\n",
      "3   | Id  | Operation               | Name     | Rows  | Bytes |TempSpc| Cost (%CPU)| Time     |\n",
      "4   --------------------------------------------------------------------------------------------\n",
      "5   |   0 | SELECT STATEMENT        |          |   615 | 57195 |       | 26620   (2)| 00:00:02 |\n",
      "6   |   1 |  SORT ORDER BY          |          |   615 | 57195 |       | 26620   (2)| 00:00:02 |\n",
      "7   |*  2 |   FILTER                |          |       |       |       |            |          |\n",
      "8   |   3 |    HASH GROUP BY        |          |   615 | 57195 |       | 26620   (2)| 00:00:02 |\n",
      "9   |   4 |     VIEW                | VW_DAG_0 | 23655 |  2148K|       | 26616   (2)| 00:00:02 |\n",
      "10  |   5 |      HASH GROUP BY      |          | 23655 |  1409K|  6552K| 26616   (2)| 00:00:02 |\n",
      "11  |*  6 |       HASH JOIN         |          | 87429 |  5208K|       | 25929   (2)| 00:00:02 |\n",
      "12  |*  7 |        TABLE ACCESS FULL| DELAYS   | 87430 |   853K|       | 22602   (2)| 00:00:01 |\n",
      "13  |   8 |        TABLE ACCESS FULL| FLIGHT   |   493K|    24M|       |  3322   (1)| 00:00:01 |\n",
      "14  --------------------------------------------------------------------------------------------\n",
      "15                                                                                              \n",
      "16                                           Predicate Information (identified by operation id):\n",
      "17                                           ---------------------------------------------------\n",
      "18                                                                                              \n",
      "19                                                                   2 - filter(SUM(\"ITEM_4\")>0)\n",
      "20                                                   6 - access(\"F\".\"FLIGHT_ID\"=\"D\".\"FLIGHT_ID\")\n",
      "21                                                                 7 - filter(\"D\".\"CANCELLED\"=1)\n",
      "22                                                                                              \n",
      "23                                                                                          Note\n",
      "24                                                                                         -----\n",
      "25                                         - dynamic statistics used: dynamic sampling (level=2)\n",
      "26                                                - 1 Sql Plan Directive used for this statement\n"
     ]
    }
   ],
   "source": [
    "# Index Vorschlag\n",
    "query3_5 = \"\"\"\n",
    "-- Index for flight_id and cancelled \n",
    "CREATE INDEX idx_delays_cancel ON Delays(\n",
    "    cancelled,\n",
    "    cancellation_reason,\n",
    "    flight_id\n",
    ");\n",
    "\n",
    "-- Composite index for grouping columns on Flight table\n",
    "CREATE INDEX idx_flight_origin ON Flight(\n",
    "    origin_state,\n",
    "    origin_airport,\n",
    "    scheduled_departure,\n",
    "    xxx\n",
    ");\n",
    "\"\"\"\n",
    "\n",
    "# Explain Plan\n",
    "df3_5 = explain_plan_query(query3_4)\n",
    "print(df3_5.to_string())"
   ]
  },
  {
   "cell_type": "markdown",
   "metadata": {},
   "source": [
    "### 4. Beste Zeit"
   ]
  },
  {
   "cell_type": "markdown",
   "metadata": {},
   "source": [
    "#### 4.1 Wochentage"
   ]
  },
  {
   "cell_type": "markdown",
   "metadata": {},
   "source": [
    "#### SQL"
   ]
  },
  {
   "cell_type": "code",
   "execution_count": 10,
   "metadata": {},
   "outputs": [
    {
     "data": {
      "text/html": [
       "<div>\n",
       "<style scoped>\n",
       "    .dataframe tbody tr th:only-of-type {\n",
       "        vertical-align: middle;\n",
       "    }\n",
       "\n",
       "    .dataframe tbody tr th {\n",
       "        vertical-align: top;\n",
       "    }\n",
       "\n",
       "    .dataframe thead th {\n",
       "        text-align: right;\n",
       "    }\n",
       "</style>\n",
       "<table border=\"1\" class=\"dataframe\">\n",
       "  <thead>\n",
       "    <tr style=\"text-align: right;\">\n",
       "      <th></th>\n",
       "      <th>AVG_DELAY_PER_DAY_OF_WEEK</th>\n",
       "      <th>DAY_OF_WEEK</th>\n",
       "    </tr>\n",
       "  </thead>\n",
       "  <tbody>\n",
       "    <tr>\n",
       "      <th>0</th>\n",
       "      <td>7</td>\n",
       "      <td>1</td>\n",
       "    </tr>\n",
       "    <tr>\n",
       "      <th>1</th>\n",
       "      <td>5</td>\n",
       "      <td>2</td>\n",
       "    </tr>\n",
       "    <tr>\n",
       "      <th>2</th>\n",
       "      <td>4</td>\n",
       "      <td>3</td>\n",
       "    </tr>\n",
       "    <tr>\n",
       "      <th>3</th>\n",
       "      <td>6</td>\n",
       "      <td>4</td>\n",
       "    </tr>\n",
       "    <tr>\n",
       "      <th>4</th>\n",
       "      <td>5</td>\n",
       "      <td>5</td>\n",
       "    </tr>\n",
       "    <tr>\n",
       "      <th>5</th>\n",
       "      <td>2</td>\n",
       "      <td>6</td>\n",
       "    </tr>\n",
       "    <tr>\n",
       "      <th>6</th>\n",
       "      <td>4</td>\n",
       "      <td>7</td>\n",
       "    </tr>\n",
       "  </tbody>\n",
       "</table>\n",
       "</div>"
      ],
      "text/plain": [
       "   AVG_DELAY_PER_DAY_OF_WEEK  DAY_OF_WEEK\n",
       "0                          7            1\n",
       "1                          5            2\n",
       "2                          4            3\n",
       "3                          6            4\n",
       "4                          5            5\n",
       "5                          2            6\n",
       "6                          4            7"
      ]
     },
     "execution_count": 10,
     "metadata": {},
     "output_type": "execute_result"
    }
   ],
   "source": [
    "# query4_1 = \"\"\"\n",
    "# SELECT \n",
    "#     t.DAY_OF_WEEK AS DAY_OF_WEEK,\n",
    "#     ROUND(AVG(f.DEPARTURE_DELAY + \n",
    "#         NVL(f.TAXI_OUT, 0) + \n",
    "#         NVL(f.SECURITY_DELAY, 0) + \n",
    "#         NVL(f.AIRLINE_DELAY, 0) + \n",
    "#         NVL(f.WEATHER_DELAY, 0) + \n",
    "#         NVL(f.AIR_SYSTEM_DELAY, 0)\n",
    "#     ), 2) AS AVERAGE_DELAY_MINUTES,\n",
    "#     COUNT(*) AS TOTAL_FLIGHTS\n",
    "# FROM DELAYS f\n",
    "# JOIN TIME t ON \n",
    "#     f.DAY = t.DAY AND \n",
    "#     f.MONTH = t.MONTH AND \n",
    "#     f.YEAR = t.YEAR\n",
    "# WHERE f.CANCELLED = 0\n",
    "# GROUP BY t.DAY_OF_WEEK\n",
    "# ORDER BY AVERAGE_DELAY_MINUTES ASC\n",
    "# \"\"\"\n",
    "query4_1 = \"\"\"\n",
    "select \n",
    "cast(sum(d.arrival_delay) / count(t.day_of_week) as int) as avg_delay_per_day_of_week, \n",
    "t.day_of_week\n",
    "from delays d\n",
    "join time t\n",
    "on d.day=t.day and d.month=t.month\n",
    "group by t.day_of_week\n",
    "order by t.day_of_week\n",
    "\"\"\"\n",
    "df4_1 = run_query(query4_1)\n",
    "df4_1"
   ]
  },
  {
   "cell_type": "markdown",
   "metadata": {},
   "source": [
    "##### Visualisierung"
   ]
  },
  {
   "cell_type": "markdown",
   "metadata": {},
   "source": [
    "![4.1.png](4_1.png)"
   ]
  },
  {
   "cell_type": "markdown",
   "metadata": {},
   "source": [
    "#### EXPLAIN PLAN und Indices"
   ]
  },
  {
   "cell_type": "code",
   "execution_count": 17,
   "metadata": {},
   "outputs": [
    {
     "name": "stdout",
     "output_type": "stream",
     "text": [
      "                                                                 PLAN_TABLE_OUTPUT\n",
      "0                                                      Plan hash value: 3015434639\n",
      "1                                                                                 \n",
      "2   ------------------------------------------------------------------------------\n",
      "3   | Id  | Operation           | Name   | Rows  | Bytes | Cost (%CPU)| Time     |\n",
      "4   ------------------------------------------------------------------------------\n",
      "5   |   0 | SELECT STATEMENT    |        |     7 |   133 | 23076   (4)| 00:00:01 |\n",
      "6   |   1 |  SORT GROUP BY      |        |     7 |   133 | 23076   (4)| 00:00:01 |\n",
      "7   |*  2 |   HASH JOIN         |        |  5332K|    96M| 22673   (2)| 00:00:01 |\n",
      "8   |   3 |    TABLE ACCESS FULL| TIME   |   365 |  3285 |     3   (0)| 00:00:01 |\n",
      "9   |   4 |    TABLE ACCESS FULL| DELAYS |  5332K|    50M| 22630   (2)| 00:00:01 |\n",
      "10  ------------------------------------------------------------------------------\n",
      "11                                                                                \n",
      "12                             Predicate Information (identified by operation id):\n",
      "13                             ---------------------------------------------------\n",
      "14                                                                                \n",
      "15                     2 - access(\"D\".\"DAY\"=\"T\".\"DAY\" AND \"D\".\"MONTH\"=\"T\".\"MONTH\")\n"
     ]
    }
   ],
   "source": [
    "# Index Vorschlag\n",
    "query4_2 = \"\"\"\n",
    "-- Index for time table with day of week\n",
    "CREATE INDEX idx_time_day_month_dow ON time (day, month, day_of_week);\n",
    "\"\"\"\n",
    "\n",
    "# Explain Plan\n",
    "df4_3 = explain_plan_query(query4_1)\n",
    "print(df4_3.to_string())"
   ]
  },
  {
   "cell_type": "markdown",
   "metadata": {},
   "source": []
  },
  {
   "cell_type": "markdown",
   "metadata": {},
   "source": [
    "#### 4.2 Sationale Unterschiede"
   ]
  },
  {
   "cell_type": "markdown",
   "metadata": {},
   "source": [
    "#### SQL"
   ]
  },
  {
   "cell_type": "code",
   "execution_count": 13,
   "metadata": {},
   "outputs": [
    {
     "data": {
      "text/html": [
       "<div>\n",
       "<style scoped>\n",
       "    .dataframe tbody tr th:only-of-type {\n",
       "        vertical-align: middle;\n",
       "    }\n",
       "\n",
       "    .dataframe tbody tr th {\n",
       "        vertical-align: top;\n",
       "    }\n",
       "\n",
       "    .dataframe thead th {\n",
       "        text-align: right;\n",
       "    }\n",
       "</style>\n",
       "<table border=\"1\" class=\"dataframe\">\n",
       "  <thead>\n",
       "    <tr style=\"text-align: right;\">\n",
       "      <th></th>\n",
       "      <th>AVG_DELAY_PER_MONTH</th>\n",
       "      <th>MONTH</th>\n",
       "    </tr>\n",
       "  </thead>\n",
       "  <tbody>\n",
       "    <tr>\n",
       "      <th>0</th>\n",
       "      <td>6</td>\n",
       "      <td>1</td>\n",
       "    </tr>\n",
       "    <tr>\n",
       "      <th>1</th>\n",
       "      <td>8</td>\n",
       "      <td>2</td>\n",
       "    </tr>\n",
       "    <tr>\n",
       "      <th>2</th>\n",
       "      <td>5</td>\n",
       "      <td>3</td>\n",
       "    </tr>\n",
       "    <tr>\n",
       "      <th>3</th>\n",
       "      <td>3</td>\n",
       "      <td>4</td>\n",
       "    </tr>\n",
       "    <tr>\n",
       "      <th>4</th>\n",
       "      <td>4</td>\n",
       "      <td>5</td>\n",
       "    </tr>\n",
       "    <tr>\n",
       "      <th>5</th>\n",
       "      <td>9</td>\n",
       "      <td>6</td>\n",
       "    </tr>\n",
       "    <tr>\n",
       "      <th>6</th>\n",
       "      <td>6</td>\n",
       "      <td>7</td>\n",
       "    </tr>\n",
       "    <tr>\n",
       "      <th>7</th>\n",
       "      <td>5</td>\n",
       "      <td>8</td>\n",
       "    </tr>\n",
       "    <tr>\n",
       "      <th>8</th>\n",
       "      <td>-1</td>\n",
       "      <td>9</td>\n",
       "    </tr>\n",
       "    <tr>\n",
       "      <th>9</th>\n",
       "      <td>1</td>\n",
       "      <td>11</td>\n",
       "    </tr>\n",
       "    <tr>\n",
       "      <th>10</th>\n",
       "      <td>6</td>\n",
       "      <td>12</td>\n",
       "    </tr>\n",
       "  </tbody>\n",
       "</table>\n",
       "</div>"
      ],
      "text/plain": [
       "    AVG_DELAY_PER_MONTH  MONTH\n",
       "0                     6      1\n",
       "1                     8      2\n",
       "2                     5      3\n",
       "3                     3      4\n",
       "4                     4      5\n",
       "5                     9      6\n",
       "6                     6      7\n",
       "7                     5      8\n",
       "8                    -1      9\n",
       "9                     1     11\n",
       "10                    6     12"
      ]
     },
     "execution_count": 13,
     "metadata": {},
     "output_type": "execute_result"
    }
   ],
   "source": [
    "# query4_4 = \"\"\"\n",
    "# SELECT \n",
    "#     t.MONTH AS MONTH,\n",
    "#     ROUND(AVG(\n",
    "#         NVL(f.DEPARTURE_DELAY, 0) + \n",
    "#         NVL(f.TAXI_OUT, 0) + \n",
    "#         NVL(f.SECURITY_DELAY, 0) + \n",
    "#         NVL(f.AIRLINE_DELAY, 0) + \n",
    "#         NVL(f.WEATHER_DELAY, 0) + \n",
    "#         NVL(f.AIR_SYSTEM_DELAY, 0)\n",
    "#     ), 2) AS AVERAGE_DELAY_MINUTES,\n",
    "#     COUNT(*) AS TOTAL_FLIGHTS\n",
    "# FROM DELAYS f\n",
    "# JOIN TIME t ON \n",
    "#     f.DAY = t.DAY AND \n",
    "#     f.MONTH = t.MONTH AND \n",
    "#     f.YEAR = t.YEAR\n",
    "# WHERE f.CANCELLED = 0\n",
    "# GROUP BY t.MONTH\n",
    "# ORDER BY t.MONTH ASC\n",
    "# \"\"\"\n",
    "\n",
    "query4_4 = \"\"\"\n",
    "select \n",
    "cast(sum(d.arrival_delay) / count(d.month) as int)as avg_delay_per_month,\n",
    "d.month\n",
    "from delays d\n",
    "join time t\n",
    "on d.day=t.day and d.month=t.month\n",
    "group by d.month\n",
    "order by d.month\n",
    "\"\"\"\n",
    "df4_4 = run_query(query4_4)\n",
    "df4_4"
   ]
  },
  {
   "cell_type": "markdown",
   "metadata": {},
   "source": [
    "#### Visualisierung"
   ]
  },
  {
   "cell_type": "markdown",
   "metadata": {},
   "source": [
    "![4.2.png](4_2.png)"
   ]
  },
  {
   "cell_type": "markdown",
   "metadata": {},
   "source": [
    "#### EXPLAIN PLAN und Indices"
   ]
  },
  {
   "cell_type": "code",
   "execution_count": 18,
   "metadata": {},
   "outputs": [
    {
     "name": "stdout",
     "output_type": "stream",
     "text": [
      "                                                                  PLAN_TABLE_OUTPUT\n",
      "0                                                       Plan hash value: 2036356653\n",
      "1                                                                                  \n",
      "2   -------------------------------------------------------------------------------\n",
      "3   | Id  | Operation           | Name    | Rows  | Bytes | Cost (%CPU)| Time     |\n",
      "4   -------------------------------------------------------------------------------\n",
      "5   |   0 | SELECT STATEMENT    |         |    11 |   176 | 23074   (4)| 00:00:01 |\n",
      "6   |   1 |  SORT GROUP BY      |         |    11 |   176 | 23074   (4)| 00:00:01 |\n",
      "7   |*  2 |   HASH JOIN         |         |  5332K|    81M| 22671   (2)| 00:00:01 |\n",
      "8   |   3 |    INDEX FULL SCAN  | PK_TIME |   365 |  2190 |     1   (0)| 00:00:01 |\n",
      "9   |   4 |    TABLE ACCESS FULL| DELAYS  |  5332K|    50M| 22630   (2)| 00:00:01 |\n",
      "10  -------------------------------------------------------------------------------\n",
      "11                                                                                 \n",
      "12                              Predicate Information (identified by operation id):\n",
      "13                              ---------------------------------------------------\n",
      "14                                                                                 \n",
      "15                      2 - access(\"D\".\"DAY\"=\"T\".\"DAY\" AND \"D\".\"MONTH\"=\"T\".\"MONTH\")\n"
     ]
    }
   ],
   "source": [
    "# Index Vorschlag\n",
    "query4_5 = \"\"\"\n",
    "--Index Date and arrival delay \n",
    "CREATE INDEX idx_delays_day_month_year_arrival ON delays (day, month, year, arrival_delay)\n",
    "\"\"\"\n",
    "\n",
    "# Explain Plan\n",
    "df4_5 = explain_plan_query(query4_4)\n",
    "print(df4_5.to_string())"
   ]
  },
  {
   "cell_type": "markdown",
   "metadata": {},
   "source": [
    "### 5. Analyse: Fluglinien"
   ]
  },
  {
   "cell_type": "markdown",
   "metadata": {},
   "source": [
    "#### 5.1 Fluglinien mit meisten Flügen"
   ]
  },
  {
   "cell_type": "markdown",
   "metadata": {},
   "source": [
    "#### SQL"
   ]
  },
  {
   "cell_type": "code",
   "execution_count": 23,
   "metadata": {},
   "outputs": [
    {
     "data": {
      "text/html": [
       "<div>\n",
       "<style scoped>\n",
       "    .dataframe tbody tr th:only-of-type {\n",
       "        vertical-align: middle;\n",
       "    }\n",
       "\n",
       "    .dataframe tbody tr th {\n",
       "        vertical-align: top;\n",
       "    }\n",
       "\n",
       "    .dataframe thead th {\n",
       "        text-align: right;\n",
       "    }\n",
       "</style>\n",
       "<table border=\"1\" class=\"dataframe\">\n",
       "  <thead>\n",
       "    <tr style=\"text-align: right;\">\n",
       "      <th></th>\n",
       "      <th>AIRLINE_NAME</th>\n",
       "      <th>TOTAL_FLIGHTS</th>\n",
       "    </tr>\n",
       "  </thead>\n",
       "  <tbody>\n",
       "    <tr>\n",
       "      <th>0</th>\n",
       "      <td>Southwest Airlines Co.</td>\n",
       "      <td>1141618</td>\n",
       "    </tr>\n",
       "    <tr>\n",
       "      <th>1</th>\n",
       "      <td>Delta Air Lines Inc.</td>\n",
       "      <td>796522</td>\n",
       "    </tr>\n",
       "    <tr>\n",
       "      <th>2</th>\n",
       "      <td>American Airlines Inc.</td>\n",
       "      <td>638500</td>\n",
       "    </tr>\n",
       "    <tr>\n",
       "      <th>3</th>\n",
       "      <td>Skywest Airlines Inc.</td>\n",
       "      <td>529826</td>\n",
       "    </tr>\n",
       "    <tr>\n",
       "      <th>4</th>\n",
       "      <td>Atlantic Southeast Airlines</td>\n",
       "      <td>511495</td>\n",
       "    </tr>\n",
       "    <tr>\n",
       "      <th>5</th>\n",
       "      <td>United Air Lines Inc.</td>\n",
       "      <td>463384</td>\n",
       "    </tr>\n",
       "    <tr>\n",
       "      <th>6</th>\n",
       "      <td>American Eagle Airlines Inc.</td>\n",
       "      <td>257898</td>\n",
       "    </tr>\n",
       "    <tr>\n",
       "      <th>7</th>\n",
       "      <td>JetBlue Airways</td>\n",
       "      <td>240989</td>\n",
       "    </tr>\n",
       "    <tr>\n",
       "      <th>8</th>\n",
       "      <td>US Airways Inc.</td>\n",
       "      <td>194648</td>\n",
       "    </tr>\n",
       "    <tr>\n",
       "      <th>9</th>\n",
       "      <td>Alaska Airlines Inc.</td>\n",
       "      <td>157418</td>\n",
       "    </tr>\n",
       "    <tr>\n",
       "      <th>10</th>\n",
       "      <td>Spirit Air Lines</td>\n",
       "      <td>105228</td>\n",
       "    </tr>\n",
       "    <tr>\n",
       "      <th>11</th>\n",
       "      <td>Frontier Airlines Inc.</td>\n",
       "      <td>82159</td>\n",
       "    </tr>\n",
       "    <tr>\n",
       "      <th>12</th>\n",
       "      <td>Hawaiian Airlines Inc.</td>\n",
       "      <td>69871</td>\n",
       "    </tr>\n",
       "    <tr>\n",
       "      <th>13</th>\n",
       "      <td>Virgin America</td>\n",
       "      <td>55928</td>\n",
       "    </tr>\n",
       "  </tbody>\n",
       "</table>\n",
       "</div>"
      ],
      "text/plain": [
       "                    AIRLINE_NAME  TOTAL_FLIGHTS\n",
       "0         Southwest Airlines Co.        1141618\n",
       "1           Delta Air Lines Inc.         796522\n",
       "2         American Airlines Inc.         638500\n",
       "3          Skywest Airlines Inc.         529826\n",
       "4    Atlantic Southeast Airlines         511495\n",
       "5          United Air Lines Inc.         463384\n",
       "6   American Eagle Airlines Inc.         257898\n",
       "7                JetBlue Airways         240989\n",
       "8                US Airways Inc.         194648\n",
       "9           Alaska Airlines Inc.         157418\n",
       "10              Spirit Air Lines         105228\n",
       "11        Frontier Airlines Inc.          82159\n",
       "12        Hawaiian Airlines Inc.          69871\n",
       "13                Virgin America          55928"
      ]
     },
     "execution_count": 23,
     "metadata": {},
     "output_type": "execute_result"
    }
   ],
   "source": [
    "query5_1 =\"\"\"\n",
    "SELECT \n",
    "    a.AIRLINE AS AIRLINE_NAME, \n",
    "    COUNT(*) AS TOTAL_FLIGHTS\n",
    "FROM DELAYS f\n",
    "JOIN AIRLINE a ON f.AIRLINE_IATA = a.IATA_CODE\n",
    "WHERE f.CANCELLED = 0 \n",
    "GROUP BY a.AIRLINE\n",
    "ORDER BY TOTAL_FLIGHTS DESC\n",
    "\"\"\"\n",
    "df5_1 = run_query(query5_1)\n",
    "df5_1"
   ]
  },
  {
   "cell_type": "markdown",
   "metadata": {},
   "source": [
    "#### Visualisierung"
   ]
  },
  {
   "cell_type": "markdown",
   "metadata": {},
   "source": [
    "![5.1.png](5.1.png)"
   ]
  },
  {
   "cell_type": "markdown",
   "metadata": {},
   "source": [
    "#### EXPLAIN PLAN und Indices"
   ]
  },
  {
   "cell_type": "code",
   "execution_count": 24,
   "metadata": {},
   "outputs": [
    {
     "name": "stdout",
     "output_type": "stream",
     "text": [
      "                                                                   PLAN_TABLE_OUTPUT\n",
      "0                                                         Plan hash value: 798564892\n",
      "1                                                                                   \n",
      "2   --------------------------------------------------------------------------------\n",
      "3   | Id  | Operation            | Name    | Rows  | Bytes | Cost (%CPU)| Time     |\n",
      "4   --------------------------------------------------------------------------------\n",
      "5   |   0 | SELECT STATEMENT     |         |    14 |   434 | 23483   (5)| 00:00:01 |\n",
      "6   |   1 |  SORT ORDER BY       |         |    14 |   434 | 23483   (5)| 00:00:01 |\n",
      "7   |   2 |   HASH GROUP BY      |         |    14 |   434 | 23483   (5)| 00:00:01 |\n",
      "8   |*  3 |    HASH JOIN         |         |  5245K|   155M| 22691   (2)| 00:00:01 |\n",
      "9   |   4 |     TABLE ACCESS FULL| AIRLINE |    14 |   350 |     3   (0)| 00:00:01 |\n",
      "10  |*  5 |     TABLE ACCESS FULL| DELAYS  |  5245K|    30M| 22649   (2)| 00:00:01 |\n",
      "11  --------------------------------------------------------------------------------\n",
      "12                                                                                  \n",
      "13                               Predicate Information (identified by operation id):\n",
      "14                               ---------------------------------------------------\n",
      "15                                                                                  \n",
      "16                                    3 - access(\"F\".\"AIRLINE_IATA\"=\"A\".\"IATA_CODE\")\n",
      "17                                                     5 - filter(\"F\".\"CANCELLED\"=0)\n"
     ]
    }
   ],
   "source": [
    "# Index Vorschlag\n",
    "query5_2 = \"\"\"\n",
    "-- Index for the JOIN condition on Delays table\n",
    "CREATE INDEX idx_delays_airline ON Delays(\n",
    "    airline_iata,\n",
    "    cancelled\n",
    ");\n",
    "\n",
    "-- Index for airline lookup\n",
    "CREATE INDEX idx_airline_iata ON Airline(\n",
    "    iata_code,\n",
    "    airline\n",
    ");\n",
    "\"\"\"\n",
    "\n",
    "# Explain Plan\n",
    "df5_3 = explain_plan_query(query5_1)\n",
    "print(df5_3.to_string())"
   ]
  },
  {
   "cell_type": "markdown",
   "metadata": {},
   "source": [
    "### 5.2 Fluglinien mit höchste Verspätungen"
   ]
  },
  {
   "cell_type": "markdown",
   "metadata": {},
   "source": [
    "#### SQL"
   ]
  },
  {
   "cell_type": "code",
   "execution_count": 25,
   "metadata": {},
   "outputs": [
    {
     "data": {
      "text/html": [
       "<div>\n",
       "<style scoped>\n",
       "    .dataframe tbody tr th:only-of-type {\n",
       "        vertical-align: middle;\n",
       "    }\n",
       "\n",
       "    .dataframe tbody tr th {\n",
       "        vertical-align: top;\n",
       "    }\n",
       "\n",
       "    .dataframe thead th {\n",
       "        text-align: right;\n",
       "    }\n",
       "</style>\n",
       "<table border=\"1\" class=\"dataframe\">\n",
       "  <thead>\n",
       "    <tr style=\"text-align: right;\">\n",
       "      <th></th>\n",
       "      <th>AIRLINE_NAME</th>\n",
       "      <th>AVERAGE_DEPARTURE_DELAY</th>\n",
       "    </tr>\n",
       "  </thead>\n",
       "  <tbody>\n",
       "    <tr>\n",
       "      <th>0</th>\n",
       "      <td>Spirit Air Lines</td>\n",
       "      <td>16.65</td>\n",
       "    </tr>\n",
       "    <tr>\n",
       "      <th>1</th>\n",
       "      <td>United Air Lines Inc.</td>\n",
       "      <td>15.07</td>\n",
       "    </tr>\n",
       "    <tr>\n",
       "      <th>2</th>\n",
       "      <td>Frontier Airlines Inc.</td>\n",
       "      <td>14.23</td>\n",
       "    </tr>\n",
       "    <tr>\n",
       "      <th>3</th>\n",
       "      <td>JetBlue Airways</td>\n",
       "      <td>11.81</td>\n",
       "    </tr>\n",
       "    <tr>\n",
       "      <th>4</th>\n",
       "      <td>Southwest Airlines Co.</td>\n",
       "      <td>10.98</td>\n",
       "    </tr>\n",
       "    <tr>\n",
       "      <th>5</th>\n",
       "      <td>American Eagle Airlines Inc.</td>\n",
       "      <td>10.57</td>\n",
       "    </tr>\n",
       "    <tr>\n",
       "      <th>6</th>\n",
       "      <td>American Airlines Inc.</td>\n",
       "      <td>9.29</td>\n",
       "    </tr>\n",
       "    <tr>\n",
       "      <th>7</th>\n",
       "      <td>Virgin America</td>\n",
       "      <td>9.19</td>\n",
       "    </tr>\n",
       "    <tr>\n",
       "      <th>8</th>\n",
       "      <td>Atlantic Southeast Airlines</td>\n",
       "      <td>9.02</td>\n",
       "    </tr>\n",
       "    <tr>\n",
       "      <th>9</th>\n",
       "      <td>Skywest Airlines Inc.</td>\n",
       "      <td>8.15</td>\n",
       "    </tr>\n",
       "    <tr>\n",
       "      <th>10</th>\n",
       "      <td>Delta Air Lines Inc.</td>\n",
       "      <td>7.75</td>\n",
       "    </tr>\n",
       "    <tr>\n",
       "      <th>11</th>\n",
       "      <td>US Airways Inc.</td>\n",
       "      <td>6.11</td>\n",
       "    </tr>\n",
       "    <tr>\n",
       "      <th>12</th>\n",
       "      <td>Alaska Airlines Inc.</td>\n",
       "      <td>1.95</td>\n",
       "    </tr>\n",
       "    <tr>\n",
       "      <th>13</th>\n",
       "      <td>Hawaiian Airlines Inc.</td>\n",
       "      <td>0.51</td>\n",
       "    </tr>\n",
       "  </tbody>\n",
       "</table>\n",
       "</div>"
      ],
      "text/plain": [
       "                    AIRLINE_NAME  AVERAGE_DEPARTURE_DELAY\n",
       "0               Spirit Air Lines                    16.65\n",
       "1          United Air Lines Inc.                    15.07\n",
       "2         Frontier Airlines Inc.                    14.23\n",
       "3                JetBlue Airways                    11.81\n",
       "4         Southwest Airlines Co.                    10.98\n",
       "5   American Eagle Airlines Inc.                    10.57\n",
       "6         American Airlines Inc.                     9.29\n",
       "7                 Virgin America                     9.19\n",
       "8    Atlantic Southeast Airlines                     9.02\n",
       "9          Skywest Airlines Inc.                     8.15\n",
       "10          Delta Air Lines Inc.                     7.75\n",
       "11               US Airways Inc.                     6.11\n",
       "12          Alaska Airlines Inc.                     1.95\n",
       "13        Hawaiian Airlines Inc.                     0.51"
      ]
     },
     "execution_count": 25,
     "metadata": {},
     "output_type": "execute_result"
    }
   ],
   "source": [
    "query5_4 = \"\"\"\n",
    "SELECT \n",
    "    a.AIRLINE AS AIRLINE_NAME, \n",
    "    ROUND(AVG(f.DEPARTURE_DELAY), 2) AS AVERAGE_DEPARTURE_DELAY\n",
    "FROM DELAYS f\n",
    "JOIN AIRLINE a ON f.AIRLINE_IATA = a.IATA_CODE\n",
    "WHERE f.CANCELLED = 0\n",
    "  AND f.DEPARTURE_DELAY IS NOT NULL\n",
    "GROUP BY a.AIRLINE\n",
    "ORDER BY AVERAGE_DEPARTURE_DELAY DESC\n",
    "\"\"\"\n",
    "df5_4 = run_query(query5_4)\n",
    "df5_4"
   ]
  },
  {
   "cell_type": "markdown",
   "metadata": {},
   "source": [
    "#### Visualisierung"
   ]
  },
  {
   "cell_type": "markdown",
   "metadata": {},
   "source": [
    "![5.2.png](5.2.png)"
   ]
  },
  {
   "cell_type": "markdown",
   "metadata": {},
   "source": [
    "#### EXPLAIN PLAN und Indices"
   ]
  },
  {
   "cell_type": "code",
   "execution_count": 26,
   "metadata": {},
   "outputs": [
    {
     "name": "stdout",
     "output_type": "stream",
     "text": [
      "                                                                   PLAN_TABLE_OUTPUT\n",
      "0                                                         Plan hash value: 798564892\n",
      "1                                                                                   \n",
      "2   --------------------------------------------------------------------------------\n",
      "3   | Id  | Operation            | Name    | Rows  | Bytes | Cost (%CPU)| Time     |\n",
      "4   --------------------------------------------------------------------------------\n",
      "5   |   0 | SELECT STATEMENT     |         |    14 |   490 | 23476   (5)| 00:00:01 |\n",
      "6   |   1 |  SORT ORDER BY       |         |    14 |   490 | 23476   (5)| 00:00:01 |\n",
      "7   |   2 |   HASH GROUP BY      |         |    14 |   490 | 23476   (5)| 00:00:01 |\n",
      "8   |*  3 |    HASH JOIN         |         |  5163K|   172M| 22697   (2)| 00:00:01 |\n",
      "9   |   4 |     TABLE ACCESS FULL| AIRLINE |    14 |   350 |     3   (0)| 00:00:01 |\n",
      "10  |*  5 |     TABLE ACCESS FULL| DELAYS  |  5163K|    49M| 22656   (2)| 00:00:01 |\n",
      "11  --------------------------------------------------------------------------------\n",
      "12                                                                                  \n",
      "13                               Predicate Information (identified by operation id):\n",
      "14                               ---------------------------------------------------\n",
      "15                                                                                  \n",
      "16                                    3 - access(\"F\".\"AIRLINE_IATA\"=\"A\".\"IATA_CODE\")\n",
      "17               5 - filter(\"F\".\"DEPARTURE_DELAY\" IS NOT NULL AND \"F\".\"CANCELLED\"=0)\n"
     ]
    }
   ],
   "source": [
    "# Index Vorschlag\n",
    "query5_5 = \"\"\"\n",
    "-- maybe as same as before\n",
    "\"\"\"\n",
    "\n",
    "# Explain Plan\n",
    "df5_5 = explain_plan_query(query5_4)\n",
    "print(df5_5.to_string())"
   ]
  },
  {
   "cell_type": "markdown",
   "metadata": {},
   "source": [
    "### 6.Beliebte Flüge"
   ]
  },
  {
   "cell_type": "markdown",
   "metadata": {},
   "source": [
    "#### 6.1 Beliebteste Flüge"
   ]
  },
  {
   "cell_type": "markdown",
   "metadata": {},
   "source": [
    "#### SQL"
   ]
  },
  {
   "cell_type": "code",
   "execution_count": 27,
   "metadata": {},
   "outputs": [
    {
     "data": {
      "text/html": [
       "<div>\n",
       "<style scoped>\n",
       "    .dataframe tbody tr th:only-of-type {\n",
       "        vertical-align: middle;\n",
       "    }\n",
       "\n",
       "    .dataframe tbody tr th {\n",
       "        vertical-align: top;\n",
       "    }\n",
       "\n",
       "    .dataframe thead th {\n",
       "        text-align: right;\n",
       "    }\n",
       "</style>\n",
       "<table border=\"1\" class=\"dataframe\">\n",
       "  <thead>\n",
       "    <tr style=\"text-align: right;\">\n",
       "      <th></th>\n",
       "      <th>CITY_NAME</th>\n",
       "      <th>STATE</th>\n",
       "      <th>INCOMING_FLIGHTS</th>\n",
       "    </tr>\n",
       "  </thead>\n",
       "  <tbody>\n",
       "    <tr>\n",
       "      <th>0</th>\n",
       "      <td>Chicago</td>\n",
       "      <td>IL</td>\n",
       "      <td>355664</td>\n",
       "    </tr>\n",
       "    <tr>\n",
       "      <th>1</th>\n",
       "      <td>Atlanta</td>\n",
       "      <td>GA</td>\n",
       "      <td>344189</td>\n",
       "    </tr>\n",
       "    <tr>\n",
       "      <th>2</th>\n",
       "      <td>Dallas-Fort Worth</td>\n",
       "      <td>TX</td>\n",
       "      <td>232833</td>\n",
       "    </tr>\n",
       "    <tr>\n",
       "      <th>3</th>\n",
       "      <td>Houston</td>\n",
       "      <td>TX</td>\n",
       "      <td>195516</td>\n",
       "    </tr>\n",
       "    <tr>\n",
       "      <th>4</th>\n",
       "      <td>Denver</td>\n",
       "      <td>CO</td>\n",
       "      <td>193700</td>\n",
       "    </tr>\n",
       "    <tr>\n",
       "      <th>...</th>\n",
       "      <td>...</td>\n",
       "      <td>...</td>\n",
       "      <td>...</td>\n",
       "    </tr>\n",
       "    <tr>\n",
       "      <th>313</th>\n",
       "      <td>St Cloud</td>\n",
       "      <td>MN</td>\n",
       "      <td>77</td>\n",
       "    </tr>\n",
       "    <tr>\n",
       "      <th>314</th>\n",
       "      <td>Dillingham</td>\n",
       "      <td>AK</td>\n",
       "      <td>77</td>\n",
       "    </tr>\n",
       "    <tr>\n",
       "      <th>315</th>\n",
       "      <td>Gustavus</td>\n",
       "      <td>AK</td>\n",
       "      <td>76</td>\n",
       "    </tr>\n",
       "    <tr>\n",
       "      <th>316</th>\n",
       "      <td>King Salmon</td>\n",
       "      <td>AK</td>\n",
       "      <td>63</td>\n",
       "    </tr>\n",
       "    <tr>\n",
       "      <th>317</th>\n",
       "      <td>Ithaca</td>\n",
       "      <td>NY</td>\n",
       "      <td>31</td>\n",
       "    </tr>\n",
       "  </tbody>\n",
       "</table>\n",
       "<p>318 rows × 3 columns</p>\n",
       "</div>"
      ],
      "text/plain": [
       "             CITY_NAME STATE  INCOMING_FLIGHTS\n",
       "0              Chicago    IL            355664\n",
       "1              Atlanta    GA            344189\n",
       "2    Dallas-Fort Worth    TX            232833\n",
       "3              Houston    TX            195516\n",
       "4               Denver    CO            193700\n",
       "..                 ...   ...               ...\n",
       "313           St Cloud    MN                77\n",
       "314         Dillingham    AK                77\n",
       "315           Gustavus    AK                76\n",
       "316        King Salmon    AK                63\n",
       "317             Ithaca    NY                31\n",
       "\n",
       "[318 rows x 3 columns]"
      ]
     },
     "execution_count": 27,
     "metadata": {},
     "output_type": "execute_result"
    }
   ],
   "source": [
    "query6_1 = \"\"\"\n",
    "SELECT \n",
    "    f.destination_city AS CITY_NAME,\n",
    "    f.destination_state AS STATE,\n",
    "    COUNT(*) AS INCOMING_FLIGHTS\n",
    "FROM FLIGHT f\n",
    "JOIN DELAYS d ON f.flight_id = d.flight_id\n",
    "WHERE d.CANCELLED = 0\n",
    "GROUP BY \n",
    "    f.destination_city,\n",
    "    f.destination_state\n",
    "ORDER BY INCOMING_FLIGHTS DESC\n",
    "\"\"\"\n",
    "df6_1 = run_query(query6_1)\n",
    "df6_1"
   ]
  },
  {
   "cell_type": "markdown",
   "metadata": {},
   "source": [
    "#### Visulaisierung"
   ]
  },
  {
   "cell_type": "markdown",
   "metadata": {},
   "source": [
    "![6.1.png](6.1.png)"
   ]
  },
  {
   "cell_type": "markdown",
   "metadata": {},
   "source": [
    "#### EXPLAIN PLAN und Indices"
   ]
  },
  {
   "cell_type": "code",
   "execution_count": 28,
   "metadata": {},
   "outputs": [
    {
     "name": "stdout",
     "output_type": "stream",
     "text": [
      "                                                                          PLAN_TABLE_OUTPUT\n",
      "0                                                                Plan hash value: 673129677\n",
      "1                                                                                          \n",
      "2   ---------------------------------------------------------------------------------------\n",
      "3   | Id  | Operation            | Name   | Rows  | Bytes |TempSpc| Cost (%CPU)| Time     |\n",
      "4   ---------------------------------------------------------------------------------------\n",
      "5   |   0 | SELECT STATEMENT     |        |   318 |  8268 |       | 32498   (4)| 00:00:02 |\n",
      "6   |   1 |  SORT ORDER BY       |        |   318 |  8268 |       | 32498   (4)| 00:00:02 |\n",
      "7   |   2 |   HASH GROUP BY      |        |   318 |  8268 |       | 32498   (4)| 00:00:02 |\n",
      "8   |*  3 |    HASH JOIN         |        |  5177K|   128M|    14M| 31717   (2)| 00:00:02 |\n",
      "9   |   4 |     TABLE ACCESS FULL| FLIGHT |   493K|  8678K|       |  3322   (1)| 00:00:01 |\n",
      "10  |*  5 |     TABLE ACCESS FULL| DELAYS |  5245K|    40M|       | 22649   (2)| 00:00:01 |\n",
      "11  ---------------------------------------------------------------------------------------\n",
      "12                                                                                         \n",
      "13                                      Predicate Information (identified by operation id):\n",
      "14                                      ---------------------------------------------------\n",
      "15                                                                                         \n",
      "16                                              3 - access(\"F\".\"FLIGHT_ID\"=\"D\".\"FLIGHT_ID\")\n",
      "17                                                            5 - filter(\"D\".\"CANCELLED\"=0)\n"
     ]
    }
   ],
   "source": [
    "# Index Vorschlag\n",
    "query6_2 = \"\"\"\n",
    "-- Index for flight_id and cancelled as before\n",
    "CREATE INDEX idx_delays_flight_id ON Delays(\n",
    "    flight_id,\n",
    "    cancelled\n",
    ");\n",
    "\n",
    "-- Index for destination name ans state grouping\n",
    "CREATE INDEX idx_flight_destination ON Flight(\n",
    "    destination_city,\n",
    "    destination_state\n",
    ");\n",
    "\"\"\"\n",
    "\n",
    "# Explain Plan\n",
    "df6_3 = explain_plan_query(query6_1)\n",
    "print(df6_3.to_string())"
   ]
  },
  {
   "cell_type": "markdown",
   "metadata": {},
   "source": [
    "#### 6.2 Beliebsteste Abflughafen"
   ]
  },
  {
   "cell_type": "markdown",
   "metadata": {},
   "source": [
    "#### SQL"
   ]
  },
  {
   "cell_type": "code",
   "execution_count": 30,
   "metadata": {},
   "outputs": [
    {
     "data": {
      "text/html": [
       "<div>\n",
       "<style scoped>\n",
       "    .dataframe tbody tr th:only-of-type {\n",
       "        vertical-align: middle;\n",
       "    }\n",
       "\n",
       "    .dataframe tbody tr th {\n",
       "        vertical-align: top;\n",
       "    }\n",
       "\n",
       "    .dataframe thead th {\n",
       "        text-align: right;\n",
       "    }\n",
       "</style>\n",
       "<table border=\"1\" class=\"dataframe\">\n",
       "  <thead>\n",
       "    <tr style=\"text-align: right;\">\n",
       "      <th></th>\n",
       "      <th>AIRPORT_NAME</th>\n",
       "      <th>CITY</th>\n",
       "      <th>STATE</th>\n",
       "      <th>OUTBOUND_FLIGHTS</th>\n",
       "    </tr>\n",
       "  </thead>\n",
       "  <tbody>\n",
       "    <tr>\n",
       "      <th>0</th>\n",
       "      <td>Hartsfield-Jackson Atlanta International Airport</td>\n",
       "      <td>Atlanta</td>\n",
       "      <td>GA</td>\n",
       "      <td>344279</td>\n",
       "    </tr>\n",
       "    <tr>\n",
       "      <th>1</th>\n",
       "      <td>Chicago O'Hare International Airport</td>\n",
       "      <td>Chicago</td>\n",
       "      <td>IL</td>\n",
       "      <td>277336</td>\n",
       "    </tr>\n",
       "    <tr>\n",
       "      <th>2</th>\n",
       "      <td>Dallas/Fort Worth International Airport</td>\n",
       "      <td>Dallas-Fort Worth</td>\n",
       "      <td>TX</td>\n",
       "      <td>233297</td>\n",
       "    </tr>\n",
       "    <tr>\n",
       "      <th>3</th>\n",
       "      <td>Denver International Airport</td>\n",
       "      <td>Denver</td>\n",
       "      <td>CO</td>\n",
       "      <td>193932</td>\n",
       "    </tr>\n",
       "    <tr>\n",
       "      <th>4</th>\n",
       "      <td>Los Angeles International Airport</td>\n",
       "      <td>Los Angeles</td>\n",
       "      <td>CA</td>\n",
       "      <td>192509</td>\n",
       "    </tr>\n",
       "    <tr>\n",
       "      <th>...</th>\n",
       "      <td>...</td>\n",
       "      <td>...</td>\n",
       "      <td>...</td>\n",
       "      <td>...</td>\n",
       "    </tr>\n",
       "    <tr>\n",
       "      <th>317</th>\n",
       "      <td>St. Cloud Regional Airport</td>\n",
       "      <td>St Cloud</td>\n",
       "      <td>MN</td>\n",
       "      <td>78</td>\n",
       "    </tr>\n",
       "    <tr>\n",
       "      <th>318</th>\n",
       "      <td>Dillingham Airport</td>\n",
       "      <td>Dillingham</td>\n",
       "      <td>AK</td>\n",
       "      <td>77</td>\n",
       "    </tr>\n",
       "    <tr>\n",
       "      <th>319</th>\n",
       "      <td>Gustavus Airport</td>\n",
       "      <td>Gustavus</td>\n",
       "      <td>AK</td>\n",
       "      <td>76</td>\n",
       "    </tr>\n",
       "    <tr>\n",
       "      <th>320</th>\n",
       "      <td>King Salmon Airport</td>\n",
       "      <td>King Salmon</td>\n",
       "      <td>AK</td>\n",
       "      <td>63</td>\n",
       "    </tr>\n",
       "    <tr>\n",
       "      <th>321</th>\n",
       "      <td>Ithaca Tompkins Regional Airport</td>\n",
       "      <td>Ithaca</td>\n",
       "      <td>NY</td>\n",
       "      <td>30</td>\n",
       "    </tr>\n",
       "  </tbody>\n",
       "</table>\n",
       "<p>322 rows × 4 columns</p>\n",
       "</div>"
      ],
      "text/plain": [
       "                                         AIRPORT_NAME               CITY  \\\n",
       "0    Hartsfield-Jackson Atlanta International Airport            Atlanta   \n",
       "1                Chicago O'Hare International Airport            Chicago   \n",
       "2             Dallas/Fort Worth International Airport  Dallas-Fort Worth   \n",
       "3                        Denver International Airport             Denver   \n",
       "4                   Los Angeles International Airport        Los Angeles   \n",
       "..                                                ...                ...   \n",
       "317                        St. Cloud Regional Airport           St Cloud   \n",
       "318                                Dillingham Airport         Dillingham   \n",
       "319                                  Gustavus Airport           Gustavus   \n",
       "320                               King Salmon Airport        King Salmon   \n",
       "321                  Ithaca Tompkins Regional Airport             Ithaca   \n",
       "\n",
       "    STATE  OUTBOUND_FLIGHTS  \n",
       "0      GA            344279  \n",
       "1      IL            277336  \n",
       "2      TX            233297  \n",
       "3      CO            193932  \n",
       "4      CA            192509  \n",
       "..    ...               ...  \n",
       "317    MN                78  \n",
       "318    AK                77  \n",
       "319    AK                76  \n",
       "320    AK                63  \n",
       "321    NY                30  \n",
       "\n",
       "[322 rows x 4 columns]"
      ]
     },
     "execution_count": 30,
     "metadata": {},
     "output_type": "execute_result"
    }
   ],
   "source": [
    "query6_4 = \"\"\"\n",
    "SELECT \n",
    "    f.ORIGIN_AIRPORT AS AIRPORT_NAME,\n",
    "    f.ORIGIN_CITY AS CITY,\n",
    "    f.ORIGIN_STATE AS STATE,\n",
    "    COUNT(*) AS OUTBOUND_FLIGHTS\n",
    "FROM FLIGHT f, DELAYS d\n",
    "WHERE d.FLIGHT_ID = f.FLIGHT_ID \n",
    "    AND d.CANCELLED = 0\n",
    "GROUP BY \n",
    "    f.ORIGIN_AIRPORT,\n",
    "    f.ORIGIN_CITY,\n",
    "    f.ORIGIN_STATE\n",
    "ORDER BY OUTBOUND_FLIGHTS DESC\n",
    "\"\"\"\n",
    "df6_4 = run_query(query6_4)\n",
    "df6_4"
   ]
  },
  {
   "cell_type": "markdown",
   "metadata": {},
   "source": [
    "#### Visualisierung"
   ]
  },
  {
   "cell_type": "markdown",
   "metadata": {},
   "source": [
    "![6.2.png](6.2.png)"
   ]
  },
  {
   "cell_type": "markdown",
   "metadata": {},
   "source": [
    "#### EXPLAIN PLAN und Indices"
   ]
  },
  {
   "cell_type": "code",
   "execution_count": 31,
   "metadata": {},
   "outputs": [
    {
     "name": "stdout",
     "output_type": "stream",
     "text": [
      "                                                                          PLAN_TABLE_OUTPUT\n",
      "0                                                                Plan hash value: 673129677\n",
      "1                                                                                          \n",
      "2   ---------------------------------------------------------------------------------------\n",
      "3   | Id  | Operation            | Name   | Rows  | Bytes |TempSpc| Cost (%CPU)| Time     |\n",
      "4   ---------------------------------------------------------------------------------------\n",
      "5   |   0 | SELECT STATEMENT     |        | 12296 |   768K|       | 33386   (4)| 00:00:02 |\n",
      "6   |   1 |  SORT ORDER BY       |        | 12296 |   768K|       | 33386   (4)| 00:00:02 |\n",
      "7   |   2 |   HASH GROUP BY      |        | 12296 |   768K|       | 33386   (4)| 00:00:02 |\n",
      "8   |*  3 |    HASH JOIN         |        |  5177K|   316M|    32M| 32605   (2)| 00:00:02 |\n",
      "9   |   4 |     TABLE ACCESS FULL| FLIGHT |   493K|    26M|       |  3322   (1)| 00:00:01 |\n",
      "10  |*  5 |     TABLE ACCESS FULL| DELAYS |  5245K|    40M|       | 22649   (2)| 00:00:01 |\n",
      "11  ---------------------------------------------------------------------------------------\n",
      "12                                                                                         \n",
      "13                                      Predicate Information (identified by operation id):\n",
      "14                                      ---------------------------------------------------\n",
      "15                                                                                         \n",
      "16                                              3 - access(\"D\".\"FLIGHT_ID\"=\"F\".\"FLIGHT_ID\")\n",
      "17                                                            5 - filter(\"D\".\"CANCELLED\"=0)\n"
     ]
    }
   ],
   "source": [
    "# Index Vorschlag\n",
    "query6_5 = \"\"\"\n",
    "-- Index for origin grouping\n",
    "CREATE INDEX idx_flight_origin ON Flight(\n",
    "    origin_airport,\n",
    "    origin_city,\n",
    "    origin_state\n",
    ");\n",
    "\"\"\"\n",
    "\n",
    "# Explain Plan\n",
    "df6_5 = explain_plan_query(query6_4)\n",
    "print(df6_5.to_string())"
   ]
  }
 ],
 "metadata": {
  "kernelspec": {
   "display_name": "data",
   "language": "python",
   "name": "python3"
  },
  "language_info": {
   "codemirror_mode": {
    "name": "ipython",
    "version": 3
   },
   "file_extension": ".py",
   "mimetype": "text/x-python",
   "name": "python",
   "nbconvert_exporter": "python",
   "pygments_lexer": "ipython3",
   "version": "3.11.10"
  }
 },
 "nbformat": 4,
 "nbformat_minor": 4
}
