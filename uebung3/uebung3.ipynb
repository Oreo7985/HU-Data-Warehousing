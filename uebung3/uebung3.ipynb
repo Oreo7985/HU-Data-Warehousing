{
 "cells": [
  {
   "cell_type": "markdown",
   "metadata": {},
   "source": [
    "# Uebung 3"
   ]
  },
  {
   "cell_type": "markdown",
   "metadata": {},
   "source": [
    "### 1. Analyse: Ursache der Verspätung"
   ]
  },
  {
   "cell_type": "markdown",
   "metadata": {},
   "source": [
    "#### SQL"
   ]
  },
  {
   "cell_type": "markdown",
   "metadata": {},
   "source": [
    "```sql\n",
    "SELECT \n",
    "    CASE \n",
    "        WHEN delay_type = 'air_system_delay' THEN 'Air System Delay'\n",
    "        WHEN delay_type = 'security_delay' THEN 'Security Delay'\n",
    "        WHEN delay_type = 'airline_delay' THEN 'Airline Delay'\n",
    "        WHEN delay_type = 'late_aircraft_delay' THEN 'Late Aircraft Delay'\n",
    "        WHEN delay_type = 'weather_delay' THEN 'Weather Delay'\n",
    "    END as delay_category,\n",
    "    SUM(delay_minutes) as total_minutes,\n",
    "    ROUND(SUM(delay_minutes) * 100.0 / SUM(SUM(delay_minutes)) OVER (), 2) as percentage\n",
    "FROM (\n",
    "    SELECT 'air_system_delay' as delay_type, COALESCE(air_system_delay, 0) as delay_minutes FROM delays\n",
    "    UNION ALL\n",
    "    SELECT 'security_delay', COALESCE(security_delay, 0) FROM delays\n",
    "    UNION ALL\n",
    "    SELECT 'airline_delay', COALESCE(airline_delay, 0) FROM delays\n",
    "    UNION ALL\n",
    "    SELECT 'late_aircraft_delay', COALESCE(late_aircraft_delay, 0) FROM delays\n",
    "    UNION ALL\n",
    "    SELECT 'weather_delay', COALESCE(weather_delay, 0) FROM delays\n",
    ") unpivoted\n",
    "GROUP BY delay_type\n",
    "HAVING SUM(delay_minutes) > 0\n",
    "ORDER BY total_minutes DESC;\n",
    "```"
   ]
  },
  {
   "cell_type": "markdown",
   "metadata": {},
   "source": [
    "##### Visulaization\n"
   ]
  },
  {
   "cell_type": "markdown",
   "metadata": {},
   "source": [
    "!"
   ]
  }
 ],
 "metadata": {
  "language_info": {
   "name": "python"
  }
 },
 "nbformat": 4,
 "nbformat_minor": 2
}
